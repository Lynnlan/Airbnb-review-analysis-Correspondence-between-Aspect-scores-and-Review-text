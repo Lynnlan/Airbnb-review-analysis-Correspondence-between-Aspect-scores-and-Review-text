{
 "cells": [
  {
   "cell_type": "code",
   "execution_count": 1,
   "metadata": {},
   "outputs": [],
   "source": [
    "from pandas import Series, DataFrame\n",
    "import pandas as pd\n",
    "from numpy.random import randn\n",
    "import numpy as np\n",
    "import re"
   ]
  },
  {
   "cell_type": "code",
   "execution_count": 2,
   "metadata": {},
   "outputs": [],
   "source": [
    "clean_score7_sents_sentiment_df = pd.read_csv('./Data/sentiment_counts/clean_sents_stm_df_7.csv', sep='\\t', encoding='utf-8').set_index(['home_id'])\n",
    "clean_score8_sents_sentiment_df = pd.read_csv('./Data/sentiment_counts/clean_sents_stm_df_8.csv', sep='\\t', encoding='utf-8').set_index(['home_id'])\n",
    "clean_score9_sents_sentiment_df = pd.read_csv('./Data/sentiment_counts/clean_sents_stm_df_9.csv', sep='\\t', encoding='utf-8').set_index(['home_id'])\n",
    "clean_score10_sents_sentiment_df = pd.read_csv('./Data/sentiment_counts/clean_sents_stm_df_10.csv', sep='\\t', encoding='utf-8').set_index(['home_id'])\n",
    "\n",
    "loc_score7_sents_sentiment_df = pd.read_csv('./Data/sentiment_counts/loc_sents_stm_df_7.csv', sep='\\t', encoding='utf-8').set_index(['home_id'])\n",
    "loc_score8_sents_sentiment_df = pd.read_csv('./Data/sentiment_counts/loc_sents_stm_df_8.csv', sep='\\t', encoding='utf-8').set_index(['home_id'])\n",
    "loc_score9_sents_sentiment_df = pd.read_csv('./Data/sentiment_counts/loc_sents_stm_df_9.csv', sep='\\t', encoding='utf-8').set_index(['home_id'])\n",
    "loc_score10_sents_sentiment_df = pd.read_csv('./Data/sentiment_counts/loc_sents_stm_df_10.csv', sep='\\t', encoding='utf-8').set_index(['home_id'])"
   ]
  },
  {
   "cell_type": "code",
   "execution_count": 3,
   "metadata": {},
   "outputs": [],
   "source": [
    "# DF TO EXCEL\n",
    "from pandas import ExcelWriter\n",
    "\n",
    "# writer = ExcelWriter('sentiment.xlsx')\n",
    "# clean_score7_sents_sentiment_df.to_excel(writer, sheet_name='clean_7_sheet')\n",
    "# clean_score8_sents_sentiment_df.to_excel(writer, sheet_name='clean_8_sheet')\n",
    "# clean_score9_sents_sentiment_df.to_excel(writer, sheet_name='clean_9_sheet')\n",
    "# clean_score10_sents_sentiment_df.to_excel(writer, sheet_name='clean_10_sheet')\n",
    "\n",
    "# loc_score7_sents_sentiment_df.to_excel(writer, sheet_name='loc_7_sheet')\n",
    "# loc_score8_sents_sentiment_df.to_excel(writer, sheet_name='loc_8_sheet')\n",
    "# loc_score9_sents_sentiment_df.to_excel(writer, sheet_name='loc_9_sheet')\n",
    "# loc_score10_sents_sentiment_df.to_excel(writer, sheet_name='loc_10_sheet')\n",
    "\n",
    "# writer.save()"
   ]
  },
  {
   "cell_type": "code",
   "execution_count": 4,
   "metadata": {},
   "outputs": [
    {
     "data": {
      "text/plain": [
       "0.01754552638460014"
      ]
     },
     "execution_count": 4,
     "metadata": {},
     "output_type": "execute_result"
    }
   ],
   "source": [
    "(clean_score7_sents_sentiment_df['num_very_neg_0.5']/clean_score7_sents_sentiment_df['num_of_sents_0.5']).mean()"
   ]
  },
  {
   "cell_type": "code",
   "execution_count": 5,
   "metadata": {},
   "outputs": [
    {
     "data": {
      "text/plain": [
       "0.4161961818997598"
      ]
     },
     "execution_count": 5,
     "metadata": {},
     "output_type": "execute_result"
    }
   ],
   "source": [
    "(clean_score7_sents_sentiment_df['num_neg_0.5']/clean_score7_sents_sentiment_df['num_of_sents_0.5']).mean()"
   ]
  },
  {
   "cell_type": "code",
   "execution_count": 6,
   "metadata": {},
   "outputs": [
    {
     "name": "stdout",
     "output_type": "stream",
     "text": [
      "[0.01754552638460014, 0.4161961818997598, 0.08258843170636392, 0.4375586903445896, 0.046111169664686424]\n",
      "[0.05579114762788233, 0.49703153718528537, 0.1338021673245114, 0.24965069402158804, 0.06372445384073291]\n",
      "[0.05440503432494279, 0.4385441922991749, 0.14119636668540486, 0.2944437622673579, 0.07141064442311951]\n"
     ]
    }
   ],
   "source": [
    "clean_pct_score7_5 = [\n",
    "    (clean_score7_sents_sentiment_df['num_very_neg_0.5']/clean_score7_sents_sentiment_df['num_of_sents_0.5']).mean(),\n",
    "    (clean_score7_sents_sentiment_df['num_neg_0.5']/clean_score7_sents_sentiment_df['num_of_sents_0.5']).mean(),\n",
    "    (clean_score7_sents_sentiment_df['num_neut_0.5']/clean_score7_sents_sentiment_df['num_of_sents_0.5']).mean(),\n",
    "    (clean_score7_sents_sentiment_df['num_pos_0.5']/clean_score7_sents_sentiment_df['num_of_sents_0.5']).mean(),\n",
    "    (clean_score7_sents_sentiment_df['num_very_pos_0.5']/clean_score7_sents_sentiment_df['num_of_sents_0.5']).mean()\n",
    "]\n",
    "\n",
    "clean_pct_score7_6 = [\n",
    "    (clean_score7_sents_sentiment_df['num_very_neg_0.6']/clean_score7_sents_sentiment_df['num_of_sents_0.6']).mean(),\n",
    "    (clean_score7_sents_sentiment_df['num_neg_0.6']/clean_score7_sents_sentiment_df['num_of_sents_0.6']).mean(),\n",
    "    (clean_score7_sents_sentiment_df['num_neut_0.6']/clean_score7_sents_sentiment_df['num_of_sents_0.6']).mean(),\n",
    "    (clean_score7_sents_sentiment_df['num_pos_0.6']/clean_score7_sents_sentiment_df['num_of_sents_0.6']).mean(),\n",
    "    (clean_score7_sents_sentiment_df['num_very_pos_0.6']/clean_score7_sents_sentiment_df['num_of_sents_0.6']).mean()\n",
    "]\n",
    "\n",
    "clean_pct_score7_7 = [\n",
    "    (clean_score7_sents_sentiment_df['num_very_neg_0.7']/clean_score7_sents_sentiment_df['num_of_sents_0.7']).mean(),\n",
    "    (clean_score7_sents_sentiment_df['num_neg_0.7']/clean_score7_sents_sentiment_df['num_of_sents_0.7']).mean(),\n",
    "    (clean_score7_sents_sentiment_df['num_neut_0.7']/clean_score7_sents_sentiment_df['num_of_sents_0.7']).mean(),\n",
    "    (clean_score7_sents_sentiment_df['num_pos_0.7']/clean_score7_sents_sentiment_df['num_of_sents_0.7']).mean(),\n",
    "    (clean_score7_sents_sentiment_df['num_very_pos_0.7']/clean_score7_sents_sentiment_df['num_of_sents_0.7']).mean()\n",
    "]\n",
    "\n",
    "print(clean_pct_score7_5)\n",
    "print(clean_pct_score7_6)\n",
    "print(clean_pct_score7_7)"
   ]
  },
  {
   "cell_type": "code",
   "execution_count": 7,
   "metadata": {},
   "outputs": [],
   "source": [
    "def mean_percent(df):\n",
    "    mean_pct5 = [\n",
    "        (df['num_very_neg_0.5']/df['num_of_sents_0.5']).mean(),\n",
    "        (df['num_neg_0.5']/df['num_of_sents_0.5']).mean(),\n",
    "        (df['num_neut_0.5']/df['num_of_sents_0.5']).mean(),\n",
    "        (df['num_pos_0.5']/df['num_of_sents_0.5']).mean(),\n",
    "        (df['num_very_pos_0.5']/df['num_of_sents_0.5']).mean()\n",
    "    ]\n",
    "    \n",
    "    mean_pct6 = [\n",
    "        (df['num_very_neg_0.6']/df['num_of_sents_0.6']).mean(),\n",
    "        (df['num_neg_0.6']/df['num_of_sents_0.6']).mean(),\n",
    "        (df['num_neut_0.6']/df['num_of_sents_0.6']).mean(),\n",
    "        (df['num_pos_0.6']/df['num_of_sents_0.6']).mean(),\n",
    "        (df['num_very_pos_0.6']/df['num_of_sents_0.6']).mean()\n",
    "    ]\n",
    "    \n",
    "    mean_pct7 = [\n",
    "        (df['num_very_neg_0.7']/df['num_of_sents_0.7']).mean(),\n",
    "        (df['num_neg_0.7']/df['num_of_sents_0.7']).mean(),\n",
    "        (df['num_neut_0.7']/df['num_of_sents_0.7']).mean(),\n",
    "        (df['num_pos_0.7']/df['num_of_sents_0.7']).mean(),\n",
    "        (df['num_very_pos_0.7']/df['num_of_sents_0.7']).mean()\n",
    "    ]\n",
    "    \n",
    "    return mean_pct5, mean_pct6, mean_pct7"
   ]
  },
  {
   "cell_type": "code",
   "execution_count": 8,
   "metadata": {},
   "outputs": [
    {
     "data": {
      "text/plain": [
       "([0.01754552638460014,\n",
       "  0.4161961818997598,\n",
       "  0.08258843170636392,\n",
       "  0.4375586903445896,\n",
       "  0.046111169664686424],\n",
       " [0.05579114762788233,\n",
       "  0.49703153718528537,\n",
       "  0.1338021673245114,\n",
       "  0.24965069402158804,\n",
       "  0.06372445384073291],\n",
       " [0.05440503432494279,\n",
       "  0.4385441922991749,\n",
       "  0.14119636668540486,\n",
       "  0.2944437622673579,\n",
       "  0.07141064442311951])"
      ]
     },
     "execution_count": 8,
     "metadata": {},
     "output_type": "execute_result"
    }
   ],
   "source": [
    "mean_percent(clean_score7_sents_sentiment_df)\n",
    "\n",
    "# pd.DataFrame(mean_percent(clean_score7_sents_sentiment_df))"
   ]
  },
  {
   "cell_type": "code",
   "execution_count": 9,
   "metadata": {},
   "outputs": [],
   "source": [
    "clean_percent_summary_df = pd.DataFrame(index= ['clean_7_0.5', 'clean_7_0.6', 'clean_7_0.7', \n",
    "                                          'clean_8_0.5', 'clean_8_0.6', 'clean_8_0.7',\n",
    "                                          'clean_9_0.5', 'clean_9_0.6', 'clean_9_0.7',\n",
    "                                          'clean_10_0.5', 'clean_10_0.6', 'clean_10_0.7'], \n",
    "                                  columns = ['per_very_neg', 'per_neg', 'per_neut', 'per_pos', 'per_very_pos'])\n",
    "\n"
   ]
  },
  {
   "cell_type": "code",
   "execution_count": 11,
   "metadata": {},
   "outputs": [
    {
     "data": {
      "text/plain": [
       "[0.01754552638460014,\n",
       " 0.4161961818997598,\n",
       " 0.08258843170636392,\n",
       " 0.4375586903445896,\n",
       " 0.046111169664686424]"
      ]
     },
     "execution_count": 11,
     "metadata": {},
     "output_type": "execute_result"
    }
   ],
   "source": [
    "# percent_summary_df['clean_7_0.5'] = mean_percent(clean_score7_sents_sentiment_df)[0]\n",
    "# percent_summary_df['clean_7_0.6'] = mean_percent(clean_score7_sents_sentiment_df)[1]\n",
    "# percent_summary_df['clean_7_0.7'] = mean_percent(clean_score7_sents_sentiment_df)[2]\n",
    "mean_percent(clean_score7_sents_sentiment_df)[0]"
   ]
  },
  {
   "cell_type": "code",
   "execution_count": 12,
   "metadata": {},
   "outputs": [
    {
     "data": {
      "text/html": [
       "<div>\n",
       "<style scoped>\n",
       "    .dataframe tbody tr th:only-of-type {\n",
       "        vertical-align: middle;\n",
       "    }\n",
       "\n",
       "    .dataframe tbody tr th {\n",
       "        vertical-align: top;\n",
       "    }\n",
       "\n",
       "    .dataframe thead th {\n",
       "        text-align: right;\n",
       "    }\n",
       "</style>\n",
       "<table border=\"1\" class=\"dataframe\">\n",
       "  <thead>\n",
       "    <tr style=\"text-align: right;\">\n",
       "      <th></th>\n",
       "      <th>per_very_neg</th>\n",
       "      <th>per_neg</th>\n",
       "      <th>per_neut</th>\n",
       "      <th>per_pos</th>\n",
       "      <th>per_very_pos</th>\n",
       "    </tr>\n",
       "  </thead>\n",
       "  <tbody>\n",
       "    <tr>\n",
       "      <th>clean_7_0.5</th>\n",
       "      <td>0.0175455</td>\n",
       "      <td>0.416196</td>\n",
       "      <td>0.0825884</td>\n",
       "      <td>0.437559</td>\n",
       "      <td>0.0461112</td>\n",
       "    </tr>\n",
       "    <tr>\n",
       "      <th>clean_7_0.6</th>\n",
       "      <td>0.0557911</td>\n",
       "      <td>0.497032</td>\n",
       "      <td>0.133802</td>\n",
       "      <td>0.249651</td>\n",
       "      <td>0.0637245</td>\n",
       "    </tr>\n",
       "    <tr>\n",
       "      <th>clean_7_0.7</th>\n",
       "      <td>0.054405</td>\n",
       "      <td>0.438544</td>\n",
       "      <td>0.141196</td>\n",
       "      <td>0.294444</td>\n",
       "      <td>0.0714106</td>\n",
       "    </tr>\n",
       "    <tr>\n",
       "      <th>clean_8_0.5</th>\n",
       "      <td>0.00359498</td>\n",
       "      <td>0.275346</td>\n",
       "      <td>0.0987953</td>\n",
       "      <td>0.559146</td>\n",
       "      <td>0.0631511</td>\n",
       "    </tr>\n",
       "    <tr>\n",
       "      <th>clean_8_0.6</th>\n",
       "      <td>0.00862954</td>\n",
       "      <td>0.381763</td>\n",
       "      <td>0.0796249</td>\n",
       "      <td>0.472013</td>\n",
       "      <td>0.057969</td>\n",
       "    </tr>\n",
       "    <tr>\n",
       "      <th>clean_8_0.7</th>\n",
       "      <td>0.00392157</td>\n",
       "      <td>0.345602</td>\n",
       "      <td>0.0791215</td>\n",
       "      <td>0.487338</td>\n",
       "      <td>0.0840171</td>\n",
       "    </tr>\n",
       "    <tr>\n",
       "      <th>clean_9_0.5</th>\n",
       "      <td>0.00185622</td>\n",
       "      <td>0.286135</td>\n",
       "      <td>0.088757</td>\n",
       "      <td>0.544139</td>\n",
       "      <td>0.0791131</td>\n",
       "    </tr>\n",
       "    <tr>\n",
       "      <th>clean_9_0.6</th>\n",
       "      <td>0.00179735</td>\n",
       "      <td>0.229813</td>\n",
       "      <td>0.0714356</td>\n",
       "      <td>0.585418</td>\n",
       "      <td>0.111536</td>\n",
       "    </tr>\n",
       "    <tr>\n",
       "      <th>clean_9_0.7</th>\n",
       "      <td>0.00132002</td>\n",
       "      <td>0.198603</td>\n",
       "      <td>0.0673718</td>\n",
       "      <td>0.617833</td>\n",
       "      <td>0.114873</td>\n",
       "    </tr>\n",
       "    <tr>\n",
       "      <th>clean_10_0.5</th>\n",
       "      <td>0.000655591</td>\n",
       "      <td>0.223691</td>\n",
       "      <td>0.0905869</td>\n",
       "      <td>0.595113</td>\n",
       "      <td>0.0906163</td>\n",
       "    </tr>\n",
       "    <tr>\n",
       "      <th>clean_10_0.6</th>\n",
       "      <td>0.000455996</td>\n",
       "      <td>0.150897</td>\n",
       "      <td>0.0675329</td>\n",
       "      <td>0.654051</td>\n",
       "      <td>0.127063</td>\n",
       "    </tr>\n",
       "    <tr>\n",
       "      <th>clean_10_0.7</th>\n",
       "      <td>0.000474608</td>\n",
       "      <td>0.139356</td>\n",
       "      <td>0.0636336</td>\n",
       "      <td>0.665674</td>\n",
       "      <td>0.130862</td>\n",
       "    </tr>\n",
       "  </tbody>\n",
       "</table>\n",
       "</div>"
      ],
      "text/plain": [
       "             per_very_neg   per_neg   per_neut   per_pos per_very_pos\n",
       "clean_7_0.5     0.0175455  0.416196  0.0825884  0.437559    0.0461112\n",
       "clean_7_0.6     0.0557911  0.497032   0.133802  0.249651    0.0637245\n",
       "clean_7_0.7      0.054405  0.438544   0.141196  0.294444    0.0714106\n",
       "clean_8_0.5    0.00359498  0.275346  0.0987953  0.559146    0.0631511\n",
       "clean_8_0.6    0.00862954  0.381763  0.0796249  0.472013     0.057969\n",
       "clean_8_0.7    0.00392157  0.345602  0.0791215  0.487338    0.0840171\n",
       "clean_9_0.5    0.00185622  0.286135   0.088757  0.544139    0.0791131\n",
       "clean_9_0.6    0.00179735  0.229813  0.0714356  0.585418     0.111536\n",
       "clean_9_0.7    0.00132002  0.198603  0.0673718  0.617833     0.114873\n",
       "clean_10_0.5  0.000655591  0.223691  0.0905869  0.595113    0.0906163\n",
       "clean_10_0.6  0.000455996  0.150897  0.0675329  0.654051     0.127063\n",
       "clean_10_0.7  0.000474608  0.139356  0.0636336  0.665674     0.130862"
      ]
     },
     "execution_count": 12,
     "metadata": {},
     "output_type": "execute_result"
    }
   ],
   "source": [
    "clean_percent_summary_df.loc['clean_7_0.5', :] = mean_percent(clean_score7_sents_sentiment_df)[0]\n",
    "clean_percent_summary_df.loc['clean_7_0.6', :] = mean_percent(clean_score7_sents_sentiment_df)[1]\n",
    "clean_percent_summary_df.loc['clean_7_0.7', :] = mean_percent(clean_score7_sents_sentiment_df)[2]\n",
    "clean_percent_summary_df.loc['clean_8_0.5', :] = mean_percent(clean_score8_sents_sentiment_df)[0]\n",
    "clean_percent_summary_df.loc['clean_8_0.6', :] = mean_percent(clean_score8_sents_sentiment_df)[1]\n",
    "clean_percent_summary_df.loc['clean_8_0.7', :] = mean_percent(clean_score8_sents_sentiment_df)[2]\n",
    "clean_percent_summary_df.loc['clean_9_0.5', :] = mean_percent(clean_score9_sents_sentiment_df)[0]\n",
    "clean_percent_summary_df.loc['clean_9_0.6', :] = mean_percent(clean_score9_sents_sentiment_df)[1]\n",
    "clean_percent_summary_df.loc['clean_9_0.7', :] = mean_percent(clean_score9_sents_sentiment_df)[2]\n",
    "clean_percent_summary_df.loc['clean_10_0.5', :] = mean_percent(clean_score10_sents_sentiment_df)[0]\n",
    "clean_percent_summary_df.loc['clean_10_0.6', :] = mean_percent(clean_score10_sents_sentiment_df)[1]\n",
    "clean_percent_summary_df.loc['clean_10_0.7', :] = mean_percent(clean_score10_sents_sentiment_df)[2]\n",
    "clean_percent_summary_df"
   ]
  },
  {
   "cell_type": "code",
   "execution_count": 13,
   "metadata": {},
   "outputs": [],
   "source": [
    "# DF TO EXCEL\n",
    "from pandas import ExcelWriter\n",
    "\n",
    "writer = ExcelWriter('senti_percent.xlsx')\n",
    "clean_percent_summary_df.to_excel(writer, sheet_name='cleanliness_senti_per')\n",
    "\n",
    "writer.save()"
   ]
  },
  {
   "cell_type": "code",
   "execution_count": null,
   "metadata": {},
   "outputs": [],
   "source": []
  }
 ],
 "metadata": {
  "kernelspec": {
   "display_name": "Python 3",
   "language": "python",
   "name": "python3"
  },
  "language_info": {
   "codemirror_mode": {
    "name": "ipython",
    "version": 3
   },
   "file_extension": ".py",
   "mimetype": "text/x-python",
   "name": "python",
   "nbconvert_exporter": "python",
   "pygments_lexer": "ipython3",
   "version": "3.6.8"
  }
 },
 "nbformat": 4,
 "nbformat_minor": 2
}

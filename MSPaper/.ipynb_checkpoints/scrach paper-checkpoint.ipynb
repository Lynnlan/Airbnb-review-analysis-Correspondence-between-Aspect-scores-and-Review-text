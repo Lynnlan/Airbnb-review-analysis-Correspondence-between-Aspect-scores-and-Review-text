{
 "cells": [
  {
   "cell_type": "code",
   "execution_count": 1,
   "metadata": {},
   "outputs": [],
   "source": [
    "import re\n",
    "from pandas import Series, DataFrame\n",
    "import pandas as pd\n",
    "from numpy.random import randn\n",
    "import numpy as np\n",
    "%matplotlib inline \n",
    "import matplotlib.pyplot as plt\n",
    "import os\n",
    "import nltk\n",
    "# use wordnet find the first level keywords\n",
    "from nltk.corpus import wordnet as wn\n",
    "import spacy"
   ]
  },
  {
   "cell_type": "code",
   "execution_count": null,
   "metadata": {},
   "outputs": [],
   "source": [
    "from spacy import displacy\n",
    "# a = nlp(u'Nick is awesome! ')\n",
    "\n",
    "# displacy.render(a, style='ent', jupyter=True)\n",
    "\n",
    "# print(a.text)\n",
    "# for ent in a.ents:\n",
    "#     if ent.label_ == 'PERSON':\n",
    "#         a.text = a.text.replace(ent.text, '')\n",
    "        \n",
    "# print(a.text)\n",
    "# # displacy.render(a, style='ent', jupyter=True)\n",
    "# text = \"Nick was very communicative and gracious enough to transport me to and from the light rail upon my arrival and departure, and went the extra mile by leaving me maps, recommendations, and even printed out a bus route based on where I'd told him I planned on going.\"\n",
    "# do = nlp(text)\n",
    "# for ent in do.ents:\n",
    "#     print(ent.text, ent.label_)\n",
    "\n",
    "# # first sentence\n",
    "# newdoc = nlp(list(doc.sents)[0].text)\n",
    "# # displacy.render(newdoc, style='dep', jupyter=True, options={'distance': 90})\n",
    "# newdoc\n",
    "\n"
   ]
  },
  {
   "cell_type": "code",
   "execution_count": 4,
   "metadata": {},
   "outputs": [
    {
     "name": "stdout",
     "output_type": "stream",
     "text": [
      "----------------------------------------\n",
      "Total number of reviews: 68638\n",
      "----------------------------------------\n"
     ]
    },
    {
     "data": {
      "text/html": [
       "<div>\n",
       "<style scoped>\n",
       "    .dataframe tbody tr th:only-of-type {\n",
       "        vertical-align: middle;\n",
       "    }\n",
       "\n",
       "    .dataframe tbody tr th {\n",
       "        vertical-align: top;\n",
       "    }\n",
       "\n",
       "    .dataframe thead th {\n",
       "        text-align: right;\n",
       "    }\n",
       "</style>\n",
       "<table border=\"1\" class=\"dataframe\">\n",
       "  <thead>\n",
       "    <tr style=\"text-align: right;\">\n",
       "      <th></th>\n",
       "      <th>home_id</th>\n",
       "      <th>scores_location</th>\n",
       "      <th>review_id</th>\n",
       "      <th>comments</th>\n",
       "    </tr>\n",
       "  </thead>\n",
       "  <tbody>\n",
       "    <tr>\n",
       "      <th>0</th>\n",
       "      <td>241032</td>\n",
       "      <td>9.0</td>\n",
       "      <td>682061</td>\n",
       "      <td>Excellent all the way around. \\r\\n\\r\\nMaija wa...</td>\n",
       "    </tr>\n",
       "    <tr>\n",
       "      <th>1</th>\n",
       "      <td>241032</td>\n",
       "      <td>9.0</td>\n",
       "      <td>691712</td>\n",
       "      <td>Maija's apartment was a wonderful place to sta...</td>\n",
       "    </tr>\n",
       "    <tr>\n",
       "      <th>2</th>\n",
       "      <td>241032</td>\n",
       "      <td>9.0</td>\n",
       "      <td>702999</td>\n",
       "      <td>one of the most pleasant stays i've had in my ...</td>\n",
       "    </tr>\n",
       "  </tbody>\n",
       "</table>\n",
       "</div>"
      ],
      "text/plain": [
       "   home_id  scores_location  review_id  \\\n",
       "0   241032              9.0     682061   \n",
       "1   241032              9.0     691712   \n",
       "2   241032              9.0     702999   \n",
       "\n",
       "                                            comments  \n",
       "0  Excellent all the way around. \\r\\n\\r\\nMaija wa...  \n",
       "1  Maija's apartment was a wonderful place to sta...  \n",
       "2  one of the most pleasant stays i've had in my ...  "
      ]
     },
     "execution_count": 4,
     "metadata": {},
     "output_type": "execute_result"
    }
   ],
   "source": [
    "# Load Necessary Data: reviews\n",
    "reviews_df = pd.read_csv(\"./Data/reviews.csv\", encoding=\"utf-8\")\n",
    "reviews_df.columns = ['home_id', 'review_id', 'date', 'reviewer_id', 'reviewer_name', 'comments']\n",
    "reviews_df.dropna()\n",
    "sample1_df = pd.read_csv(\"./Data/sample_data_for_testing\", sep='\\t', encoding=\"utf-8\")\n",
    "sample1_df = sample1_df.drop(\"Unnamed: 0\", axis=1)\n",
    "df1 = sample1_df[['home_id', 'scores_location']]\n",
    "df2 = reviews_df[['home_id', 'review_id', 'comments']]\n",
    "\n",
    "sample1_rh_df = pd.merge(df1, df2, on=\"home_id\")"
   ]
  },
  {
   "cell_type": "code",
   "execution_count": 6,
   "metadata": {},
   "outputs": [
    {
     "name": "stdout",
     "output_type": "stream",
     "text": [
      "****************************************\n",
      "There are:\n",
      "----------------------------------------\n",
      "2225 Airbnb homes in total.\n",
      "----------------------------------------\n",
      "68638 reviews in total.\n",
      "----------------------------------------\n"
     ]
    }
   ],
   "source": [
    "sample2_rh_df = sample1_rh_df\n",
    "print('*' * 40 + '\\nThere are:\\n' + '-' * 40)\n",
    "print(str(len(sample2_rh_df.groupby('home_id'))) + \" Airbnb homes in total.\\n\" + '-' * 40)\n",
    "print(str(len(sample2_rh_df)) + \" reviews in total.\\n\" + '-' * 40)"
   ]
  },
  {
   "cell_type": "code",
   "execution_count": 7,
   "metadata": {},
   "outputs": [
    {
     "data": {
      "text/html": [
       "<div>\n",
       "<style scoped>\n",
       "    .dataframe tbody tr th:only-of-type {\n",
       "        vertical-align: middle;\n",
       "    }\n",
       "\n",
       "    .dataframe tbody tr th {\n",
       "        vertical-align: top;\n",
       "    }\n",
       "\n",
       "    .dataframe thead th {\n",
       "        text-align: right;\n",
       "    }\n",
       "</style>\n",
       "<table border=\"1\" class=\"dataframe\">\n",
       "  <thead>\n",
       "    <tr style=\"text-align: right;\">\n",
       "      <th></th>\n",
       "      <th>number of homes</th>\n",
       "      <th>number of reveiws</th>\n",
       "    </tr>\n",
       "    <tr>\n",
       "      <th>scores_location</th>\n",
       "      <th></th>\n",
       "      <th></th>\n",
       "    </tr>\n",
       "  </thead>\n",
       "  <tbody>\n",
       "    <tr>\n",
       "      <th>4.0</th>\n",
       "      <td>1</td>\n",
       "      <td>1</td>\n",
       "    </tr>\n",
       "    <tr>\n",
       "      <th>6.0</th>\n",
       "      <td>4</td>\n",
       "      <td>4</td>\n",
       "    </tr>\n",
       "    <tr>\n",
       "      <th>7.0</th>\n",
       "      <td>15</td>\n",
       "      <td>134</td>\n",
       "    </tr>\n",
       "    <tr>\n",
       "      <th>8.0</th>\n",
       "      <td>90</td>\n",
       "      <td>1344</td>\n",
       "    </tr>\n",
       "    <tr>\n",
       "      <th>9.0</th>\n",
       "      <td>634</td>\n",
       "      <td>23796</td>\n",
       "    </tr>\n",
       "    <tr>\n",
       "      <th>10.0</th>\n",
       "      <td>1481</td>\n",
       "      <td>43359</td>\n",
       "    </tr>\n",
       "  </tbody>\n",
       "</table>\n",
       "</div>"
      ],
      "text/plain": [
       "                 number of homes  number of reveiws\n",
       "scores_location                                    \n",
       "4.0                            1                  1\n",
       "6.0                            4                  4\n",
       "7.0                           15                134\n",
       "8.0                           90               1344\n",
       "9.0                          634              23796\n",
       "10.0                        1481              43359"
      ]
     },
     "execution_count": 7,
     "metadata": {},
     "output_type": "execute_result"
    }
   ],
   "source": [
    "df1 = pd.DataFrame(sample2_rh_df.groupby(['scores_location'])['home_id'].nunique())\n",
    "df2 = pd.DataFrame(sample2_rh_df.groupby(['scores_location'])['review_id'].nunique())\n",
    "location_overview_df = pd.merge(df1, df2, on = 'scores_location')\n",
    "location_overview_df.columns = ['number of homes', 'number of reveiws']\n",
    "location_overview_df"
   ]
  },
  {
   "cell_type": "code",
   "execution_count": 3,
   "metadata": {},
   "outputs": [
    {
     "name": "stdout",
     "output_type": "stream",
     "text": [
      "****************************************\n",
      "There are:\n",
      "----------------------------------------\n",
      "2225 Airbnb homes in total.\n",
      "----------------------------------------\n",
      "68638 reviews in total.\n",
      "----------------------------------------\n"
     ]
    }
   ],
   "source": [
    "# sample2_rh_df is a copy of sample1_rh_df to \n",
    "# in case unexpected modification for original data.\n",
    "sample2_rh_df = sample1_rh_df\n",
    "print('*' * 40 + '\\nThere are:\\n' + '-' * 40)\n",
    "print(str(len(sample2_rh_df.groupby('home_id'))) + \" Airbnb homes in total.\\n\" + '-' * 40)\n",
    "print(str(len(sample2_rh_df)) + \" reviews in total.\\n\" + '-' * 40)"
   ]
  },
  {
   "cell_type": "code",
   "execution_count": null,
   "metadata": {},
   "outputs": [],
   "source": [
    "# for k in a.keys():\n",
    "#     if a[k]['total_score'] != 0:\n",
    "#         print(k, a[k]['total_score'], a[k]['sentence'])\n",
    "\n"
   ]
  },
  {
   "cell_type": "code",
   "execution_count": null,
   "metadata": {},
   "outputs": [],
   "source": [
    "# def compute_score_sum(sen_keywords, aspect_keywords):\n",
    "#     score = 0\n",
    "#     for token1 in sen_keywords:\n",
    "#         for token2 in aspect_keywords:\n",
    "#             score += token1.similarity(token2)\n",
    "#     return score"
   ]
  },
  {
   "cell_type": "code",
   "execution_count": null,
   "metadata": {},
   "outputs": [],
   "source": [
    "# Functions used to do sentence extraction.\n",
    "import spacy \n",
    "nlp = spacy.load('en')\n",
    "\n",
    "def parseSentence(doc):\n",
    "    return [sent for sent in doc.sents]\n",
    "\n",
    "def token_text(doc):\n",
    "    for token in doc:\n",
    "        print('\"' + token.text + '\"')\n",
    "        \n",
    "def see_entity(doc):\n",
    "    for ent in doc.ents:\n",
    "        print(ent.text, ent.label_)\n",
    "        \n",
    "# Uses stopwords for english from NLTK, and all puntuation characters by default\n",
    "r = Rake()\n",
    "r.get_ranked_phrases_with_scores\n",
    "\n",
    "def keyword_extraction(txtContent):\n",
    "    r.extract_keywords_from_text(txtContent)\n",
    "    return r.get_word_degrees()"
   ]
  },
  {
   "cell_type": "code",
   "execution_count": null,
   "metadata": {},
   "outputs": [],
   "source": [
    "# def sents_sim_score(doc, aspect, sim):\n",
    "    \n",
    "#     sent_asp_sim_score_df = pd.DataFrame(columns = ['sentence_id', 'aspect_sim_score', 'text'])\n",
    "    \n",
    "#     aspect_keywords = nlp(' '.join(aspect_keywords_dic[aspect]))\n",
    "    \n",
    "#     for which_sen in range(len(list(doc.sents))):\n",
    "        \n",
    "#         new_doc = list(doc.sents)[which_sen].text        \n",
    "#         sen_keywords = nlp(new_doc)\n",
    "#         aspect_sim_score = compute_score(sen_keywords, aspect_keywords, sim)\n",
    "#         sent_asp_sim_score_df.loc[which_sen] = [which_sen, aspect_sim_score, new_doc]\n",
    "    \n",
    "#     return sent_asp_sim_score_df"
   ]
  }
 ],
 "metadata": {
  "kernelspec": {
   "display_name": "Python 3",
   "language": "python",
   "name": "python3"
  },
  "language_info": {
   "codemirror_mode": {
    "name": "ipython",
    "version": 3
   },
   "file_extension": ".py",
   "mimetype": "text/x-python",
   "name": "python",
   "nbconvert_exporter": "python",
   "pygments_lexer": "ipython3",
   "version": "3.6.8"
  }
 },
 "nbformat": 4,
 "nbformat_minor": 2
}

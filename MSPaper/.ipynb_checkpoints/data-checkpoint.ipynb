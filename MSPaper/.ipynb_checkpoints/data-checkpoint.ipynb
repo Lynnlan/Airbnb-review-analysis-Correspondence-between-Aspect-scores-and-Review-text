{
 "cells": [
  {
   "cell_type": "code",
   "execution_count": 1,
   "metadata": {},
   "outputs": [],
   "source": [
    "import re\n",
    "from pandas import Series, DataFrame\n",
    "import pandas as pd\n",
    "from numpy.random import randn\n",
    "import numpy as np\n",
    "%matplotlib inline \n",
    "import matplotlib.pyplot as plt\n",
    "# import seaborn as sns"
   ]
  },
  {
   "cell_type": "markdown",
   "metadata": {},
   "source": [
    "## First Step: Select Airbnb Homes for Research"
   ]
  },
  {
   "cell_type": "code",
   "execution_count": 6,
   "metadata": {},
   "outputs": [
    {
     "data": {
      "text/html": [
       "<div>\n",
       "<style scoped>\n",
       "    .dataframe tbody tr th:only-of-type {\n",
       "        vertical-align: middle;\n",
       "    }\n",
       "\n",
       "    .dataframe tbody tr th {\n",
       "        vertical-align: top;\n",
       "    }\n",
       "\n",
       "    .dataframe thead th {\n",
       "        text-align: right;\n",
       "    }\n",
       "</style>\n",
       "<table border=\"1\" class=\"dataframe\">\n",
       "  <thead>\n",
       "    <tr style=\"text-align: right;\">\n",
       "      <th></th>\n",
       "      <th>home_id</th>\n",
       "      <th>last_scraped</th>\n",
       "      <th>price</th>\n",
       "      <th>number_of_reviews</th>\n",
       "      <th>scores_overall</th>\n",
       "      <th>scores_accuracy</th>\n",
       "      <th>scores_cleanliness</th>\n",
       "      <th>scores_checkin</th>\n",
       "      <th>scores_communication</th>\n",
       "      <th>scores_location</th>\n",
       "      <th>scores_value</th>\n",
       "      <th>reviews_per_month</th>\n",
       "    </tr>\n",
       "  </thead>\n",
       "  <tbody>\n",
       "    <tr>\n",
       "      <th>0</th>\n",
       "      <td>241032</td>\n",
       "      <td>2016-01-04</td>\n",
       "      <td>$85.00</td>\n",
       "      <td>207</td>\n",
       "      <td>95.0</td>\n",
       "      <td>10.0</td>\n",
       "      <td>10.0</td>\n",
       "      <td>10.0</td>\n",
       "      <td>10.0</td>\n",
       "      <td>9.0</td>\n",
       "      <td>10.0</td>\n",
       "      <td>4.07</td>\n",
       "    </tr>\n",
       "    <tr>\n",
       "      <th>1</th>\n",
       "      <td>953595</td>\n",
       "      <td>2016-01-04</td>\n",
       "      <td>$150.00</td>\n",
       "      <td>43</td>\n",
       "      <td>96.0</td>\n",
       "      <td>10.0</td>\n",
       "      <td>10.0</td>\n",
       "      <td>10.0</td>\n",
       "      <td>10.0</td>\n",
       "      <td>10.0</td>\n",
       "      <td>10.0</td>\n",
       "      <td>1.48</td>\n",
       "    </tr>\n",
       "    <tr>\n",
       "      <th>2</th>\n",
       "      <td>3308979</td>\n",
       "      <td>2016-01-04</td>\n",
       "      <td>$975.00</td>\n",
       "      <td>20</td>\n",
       "      <td>97.0</td>\n",
       "      <td>10.0</td>\n",
       "      <td>10.0</td>\n",
       "      <td>10.0</td>\n",
       "      <td>10.0</td>\n",
       "      <td>10.0</td>\n",
       "      <td>10.0</td>\n",
       "      <td>1.15</td>\n",
       "    </tr>\n",
       "  </tbody>\n",
       "</table>\n",
       "</div>"
      ],
      "text/plain": [
       "   home_id last_scraped    price  number_of_reviews  scores_overall  \\\n",
       "0   241032   2016-01-04   $85.00                207            95.0   \n",
       "1   953595   2016-01-04  $150.00                 43            96.0   \n",
       "2  3308979   2016-01-04  $975.00                 20            97.0   \n",
       "\n",
       "   scores_accuracy  scores_cleanliness  scores_checkin  scores_communication  \\\n",
       "0             10.0                10.0            10.0                  10.0   \n",
       "1             10.0                10.0            10.0                  10.0   \n",
       "2             10.0                10.0            10.0                  10.0   \n",
       "\n",
       "   scores_location  scores_value  reviews_per_month  \n",
       "0              9.0          10.0               4.07  \n",
       "1             10.0          10.0               1.48  \n",
       "2             10.0          10.0               1.15  "
      ]
     },
     "execution_count": 6,
     "metadata": {},
     "output_type": "execute_result"
    }
   ],
   "source": [
    "fields = ['id', 'price', 'last_scraped','number_of_reviews', 'review_scores_rating', \n",
    "          'review_scores_accuracy', 'review_scores_cleanliness', 'review_scores_checkin', \n",
    "          'review_scores_communication', 'review_scores_location', 'review_scores_value', \n",
    "          'reviews_per_month']\n",
    "homes_df = pd.read_csv(\"./Data/listings.csv\", encoding = \"utf-8\", usecols = fields)\n",
    "\n",
    "homes_df.columns = ['home_id', 'last_scraped', 'price', 'number_of_reviews',\n",
    "                    'scores_overall', 'scores_accuracy', 'scores_cleanliness', \n",
    "                    'scores_checkin', 'scores_communication', 'scores_location', \n",
    "                    'scores_value', 'reviews_per_month']\n",
    "homes_df = homes_df.dropna() # removed 660 homes which are lack of some score information\n",
    "homes_df.head(3)"
   ]
  },
  {
   "cell_type": "code",
   "execution_count": 7,
   "metadata": {},
   "outputs": [
    {
     "data": {
      "text/html": [
       "<div>\n",
       "<style scoped>\n",
       "    .dataframe tbody tr th:only-of-type {\n",
       "        vertical-align: middle;\n",
       "    }\n",
       "\n",
       "    .dataframe tbody tr th {\n",
       "        vertical-align: top;\n",
       "    }\n",
       "\n",
       "    .dataframe thead th {\n",
       "        text-align: right;\n",
       "    }\n",
       "</style>\n",
       "<table border=\"1\" class=\"dataframe\">\n",
       "  <thead>\n",
       "    <tr style=\"text-align: right;\">\n",
       "      <th></th>\n",
       "      <th>home_id</th>\n",
       "      <th>last_scraped</th>\n",
       "      <th>price</th>\n",
       "      <th>number_of_reviews</th>\n",
       "      <th>scores_overall</th>\n",
       "      <th>scores_accuracy</th>\n",
       "      <th>scores_cleanliness</th>\n",
       "      <th>scores_checkin</th>\n",
       "      <th>scores_communication</th>\n",
       "      <th>scores_location</th>\n",
       "      <th>scores_value</th>\n",
       "      <th>reviews_per_month</th>\n",
       "    </tr>\n",
       "  </thead>\n",
       "  <tbody>\n",
       "    <tr>\n",
       "      <th>0</th>\n",
       "      <td>241032</td>\n",
       "      <td>2016-01-04</td>\n",
       "      <td>85</td>\n",
       "      <td>207</td>\n",
       "      <td>95.0</td>\n",
       "      <td>10.0</td>\n",
       "      <td>10.0</td>\n",
       "      <td>10.0</td>\n",
       "      <td>10.0</td>\n",
       "      <td>9.0</td>\n",
       "      <td>10.0</td>\n",
       "      <td>4.07</td>\n",
       "    </tr>\n",
       "    <tr>\n",
       "      <th>1</th>\n",
       "      <td>953595</td>\n",
       "      <td>2016-01-04</td>\n",
       "      <td>150</td>\n",
       "      <td>43</td>\n",
       "      <td>96.0</td>\n",
       "      <td>10.0</td>\n",
       "      <td>10.0</td>\n",
       "      <td>10.0</td>\n",
       "      <td>10.0</td>\n",
       "      <td>10.0</td>\n",
       "      <td>10.0</td>\n",
       "      <td>1.48</td>\n",
       "    </tr>\n",
       "    <tr>\n",
       "      <th>2</th>\n",
       "      <td>3308979</td>\n",
       "      <td>2016-01-04</td>\n",
       "      <td>975</td>\n",
       "      <td>20</td>\n",
       "      <td>97.0</td>\n",
       "      <td>10.0</td>\n",
       "      <td>10.0</td>\n",
       "      <td>10.0</td>\n",
       "      <td>10.0</td>\n",
       "      <td>10.0</td>\n",
       "      <td>10.0</td>\n",
       "      <td>1.15</td>\n",
       "    </tr>\n",
       "  </tbody>\n",
       "</table>\n",
       "</div>"
      ],
      "text/plain": [
       "   home_id last_scraped  price  number_of_reviews  scores_overall  \\\n",
       "0   241032   2016-01-04     85                207            95.0   \n",
       "1   953595   2016-01-04    150                 43            96.0   \n",
       "2  3308979   2016-01-04    975                 20            97.0   \n",
       "\n",
       "   scores_accuracy  scores_cleanliness  scores_checkin  scores_communication  \\\n",
       "0             10.0                10.0            10.0                  10.0   \n",
       "1             10.0                10.0            10.0                  10.0   \n",
       "2             10.0                10.0            10.0                  10.0   \n",
       "\n",
       "   scores_location  scores_value  reviews_per_month  \n",
       "0              9.0          10.0               4.07  \n",
       "1             10.0          10.0               1.48  \n",
       "2             10.0          10.0               1.15  "
      ]
     },
     "execution_count": 7,
     "metadata": {},
     "output_type": "execute_result"
    }
   ],
   "source": [
    "# change price from string to integer such as \"$85.00\" to \"85\"\n",
    "def extract_price(s):\n",
    "    return int(''.join(re.findall(r\"\\d+\", s.split('.')[0])))\n",
    "\n",
    "homes_df.price = [extract_price(p) for p in homes_df.price]\n",
    "homes_df.head(3)"
   ]
  },
  {
   "cell_type": "code",
   "execution_count": 9,
   "metadata": {},
   "outputs": [
    {
     "name": "stdout",
     "output_type": "stream",
     "text": [
      "2016-01-04\n",
      "2016-01-04\n"
     ]
    }
   ],
   "source": [
    "print(max(homes_df.last_scraped))\n",
    "print(min(homes_df.last_scraped))"
   ]
  },
  {
   "cell_type": "code",
   "execution_count": 10,
   "metadata": {},
   "outputs": [
    {
     "name": "stdout",
     "output_type": "stream",
     "text": [
      "There are 3158 airbnb homes.\n",
      "The price ranging from $25 to $1000.\n"
     ]
    }
   ],
   "source": [
    "print(\"There are \" + str(len(homes_df)) + \" airbnb homes.\")\n",
    "print(\"The price ranging from $\" + str(min(homes_df.price)) + \" to $\" \n",
    "      + str(max(homes_df.price)) + \".\")"
   ]
  },
  {
   "cell_type": "code",
   "execution_count": 12,
   "metadata": {},
   "outputs": [
    {
     "data": {
      "text/plain": [
       "3158"
      ]
     },
     "execution_count": 12,
     "metadata": {},
     "output_type": "execute_result"
    }
   ],
   "source": [
    "# len(homes_sample_df)\n",
    "len(homes_df)"
   ]
  },
  {
   "cell_type": "code",
   "execution_count": 13,
   "metadata": {},
   "outputs": [],
   "source": [
    "homes_df.to_csv('./Data/selected_data_for_research.csv', sep='\\t', encoding='utf-8')"
   ]
  },
  {
   "cell_type": "markdown",
   "metadata": {},
   "source": [
    "**********************************************************************************************\n",
    "## Next Step: Combine selected homes with its reviews"
   ]
  },
  {
   "cell_type": "code",
   "execution_count": 14,
   "metadata": {},
   "outputs": [
    {
     "data": {
      "text/plain": [
       "84849"
      ]
     },
     "execution_count": 14,
     "metadata": {},
     "output_type": "execute_result"
    }
   ],
   "source": [
    "# Load Necessary Data: reviews\n",
    "reviews_df = pd.read_csv(\"./Data/reviews.csv\", encoding=\"utf-8\")\n",
    "reviews_df.columns = ['home_id', 'review_id', 'date', 'reviewer_id', 'reviewer_name', 'comments']\n",
    "reviews_df.dropna()\n",
    "reviews_df.head(2)\n",
    "len(reviews_df)"
   ]
  },
  {
   "cell_type": "code",
   "execution_count": 15,
   "metadata": {},
   "outputs": [
    {
     "name": "stdout",
     "output_type": "stream",
     "text": [
      "2009-06-07 2016-01-03\n"
     ]
    },
    {
     "data": {
      "text/plain": [
       "84792"
      ]
     },
     "execution_count": 15,
     "metadata": {},
     "output_type": "execute_result"
    }
   ],
   "source": [
    "print(min(reviews_df.date), max(reviews_df.date))\n",
    "# reviews_df.groupby('comments').count()\n",
    "reviews_df = reviews_df[reviews_df.comments != 'The host canceled this reservation the day before arrival. This is an automated posting.']\n",
    "len(reviews_df)"
   ]
  },
  {
   "cell_type": "code",
   "execution_count": 16,
   "metadata": {},
   "outputs": [],
   "source": [
    "from langdetect import detect\n",
    "def lang_detection(series):\n",
    "    isEn = []\n",
    "    for text in series:\n",
    "        try:\n",
    "            language = detect(text)\n",
    "        except:\n",
    "            language = \"error\"\n",
    "            print(\"This row throws and error:\", text)\n",
    "        \n",
    "        if language == 'en':\n",
    "            isEn.append(True)\n",
    "        else:\n",
    "            isEn.append(False)\n",
    "            \n",
    "    return isEn\n",
    "#     return [True if detect(text) == 'en' else False for text in series]"
   ]
  },
  {
   "cell_type": "code",
   "execution_count": 17,
   "metadata": {},
   "outputs": [
    {
     "name": "stdout",
     "output_type": "stream",
     "text": [
      "This row throws and error: .\n",
      "This row throws and error: ...\n",
      "This row throws and error: :)\n",
      "This row throws and error: -\n",
      "This row throws and error: nan\n",
      "This row throws and error: :)\n",
      "This row throws and error: nan\n",
      "This row throws and error: nan\n",
      "This row throws and error: nan\n",
      "This row throws and error: nan\n",
      "This row throws and error: *\n",
      "This row throws and error: nan\n",
      "This row throws and error: nan\n",
      "This row throws and error: nan\n",
      "This row throws and error: .\n",
      "This row throws and error: nan\n",
      "This row throws and error: nan\n",
      "This row throws and error: nan\n",
      "This row throws and error: nan\n",
      "This row throws and error: nan\n",
      "This row throws and error: .\n",
      "This row throws and error: nan\n",
      "This row throws and error: nan\n",
      "This row throws and error: nan\n",
      "This row throws and error: ..\n",
      "This row throws and error: .\n",
      "This row throws and error: .\n",
      "This row throws and error: nan\n",
      "This row throws and error: nan\n",
      "This row throws and error: .\n"
     ]
    }
   ],
   "source": [
    "lang_isen = lang_detection(reviews_df.comments)"
   ]
  },
  {
   "cell_type": "code",
   "execution_count": 18,
   "metadata": {},
   "outputs": [],
   "source": [
    "reviews_df = reviews_df[lang_isen]"
   ]
  },
  {
   "cell_type": "code",
   "execution_count": 19,
   "metadata": {},
   "outputs": [
    {
     "data": {
      "text/html": [
       "<div>\n",
       "<style scoped>\n",
       "    .dataframe tbody tr th:only-of-type {\n",
       "        vertical-align: middle;\n",
       "    }\n",
       "\n",
       "    .dataframe tbody tr th {\n",
       "        vertical-align: top;\n",
       "    }\n",
       "\n",
       "    .dataframe thead th {\n",
       "        text-align: right;\n",
       "    }\n",
       "</style>\n",
       "<table border=\"1\" class=\"dataframe\">\n",
       "  <thead>\n",
       "    <tr style=\"text-align: right;\">\n",
       "      <th></th>\n",
       "      <th>home_id</th>\n",
       "      <th>review_id</th>\n",
       "      <th>date</th>\n",
       "      <th>reviewer_id</th>\n",
       "      <th>reviewer_name</th>\n",
       "      <th>comments</th>\n",
       "    </tr>\n",
       "  </thead>\n",
       "  <tbody>\n",
       "    <tr>\n",
       "      <th>0</th>\n",
       "      <td>7202016</td>\n",
       "      <td>38917982</td>\n",
       "      <td>2015-07-19</td>\n",
       "      <td>28943674</td>\n",
       "      <td>Bianca</td>\n",
       "      <td>Cute and cozy place. Perfect location to every...</td>\n",
       "    </tr>\n",
       "    <tr>\n",
       "      <th>1</th>\n",
       "      <td>7202016</td>\n",
       "      <td>39087409</td>\n",
       "      <td>2015-07-20</td>\n",
       "      <td>32440555</td>\n",
       "      <td>Frank</td>\n",
       "      <td>Kelly has a great room in a very central locat...</td>\n",
       "    </tr>\n",
       "    <tr>\n",
       "      <th>2</th>\n",
       "      <td>7202016</td>\n",
       "      <td>39820030</td>\n",
       "      <td>2015-07-26</td>\n",
       "      <td>37722850</td>\n",
       "      <td>Ian</td>\n",
       "      <td>Very spacious apartment, and in a great neighb...</td>\n",
       "    </tr>\n",
       "    <tr>\n",
       "      <th>3</th>\n",
       "      <td>7202016</td>\n",
       "      <td>40813543</td>\n",
       "      <td>2015-08-02</td>\n",
       "      <td>33671805</td>\n",
       "      <td>George</td>\n",
       "      <td>Close to Seattle Center and all it has to offe...</td>\n",
       "    </tr>\n",
       "    <tr>\n",
       "      <th>4</th>\n",
       "      <td>7202016</td>\n",
       "      <td>41986501</td>\n",
       "      <td>2015-08-10</td>\n",
       "      <td>34959538</td>\n",
       "      <td>Ming</td>\n",
       "      <td>Kelly was a great host and very accommodating ...</td>\n",
       "    </tr>\n",
       "  </tbody>\n",
       "</table>\n",
       "</div>"
      ],
      "text/plain": [
       "   home_id  review_id        date  reviewer_id reviewer_name  \\\n",
       "0  7202016   38917982  2015-07-19     28943674        Bianca   \n",
       "1  7202016   39087409  2015-07-20     32440555         Frank   \n",
       "2  7202016   39820030  2015-07-26     37722850           Ian   \n",
       "3  7202016   40813543  2015-08-02     33671805        George   \n",
       "4  7202016   41986501  2015-08-10     34959538          Ming   \n",
       "\n",
       "                                            comments  \n",
       "0  Cute and cozy place. Perfect location to every...  \n",
       "1  Kelly has a great room in a very central locat...  \n",
       "2  Very spacious apartment, and in a great neighb...  \n",
       "3  Close to Seattle Center and all it has to offe...  \n",
       "4  Kelly was a great host and very accommodating ...  "
      ]
     },
     "execution_count": 19,
     "metadata": {},
     "output_type": "execute_result"
    }
   ],
   "source": [
    "reviews_df.head()"
   ]
  },
  {
   "cell_type": "code",
   "execution_count": 20,
   "metadata": {},
   "outputs": [
    {
     "data": {
      "text/html": [
       "<div>\n",
       "<style scoped>\n",
       "    .dataframe tbody tr th:only-of-type {\n",
       "        vertical-align: middle;\n",
       "    }\n",
       "\n",
       "    .dataframe tbody tr th {\n",
       "        vertical-align: top;\n",
       "    }\n",
       "\n",
       "    .dataframe thead th {\n",
       "        text-align: right;\n",
       "    }\n",
       "</style>\n",
       "<table border=\"1\" class=\"dataframe\">\n",
       "  <thead>\n",
       "    <tr style=\"text-align: right;\">\n",
       "      <th></th>\n",
       "      <th>home_id</th>\n",
       "      <th>last_scraped</th>\n",
       "      <th>price</th>\n",
       "      <th>number_of_reviews</th>\n",
       "      <th>scores_overall</th>\n",
       "      <th>scores_accuracy</th>\n",
       "      <th>scores_cleanliness</th>\n",
       "      <th>scores_checkin</th>\n",
       "      <th>scores_communication</th>\n",
       "      <th>scores_location</th>\n",
       "      <th>scores_value</th>\n",
       "      <th>reviews_per_month</th>\n",
       "    </tr>\n",
       "  </thead>\n",
       "  <tbody>\n",
       "    <tr>\n",
       "      <th>0</th>\n",
       "      <td>241032</td>\n",
       "      <td>2016-01-04</td>\n",
       "      <td>85</td>\n",
       "      <td>207</td>\n",
       "      <td>95.0</td>\n",
       "      <td>10.0</td>\n",
       "      <td>10.0</td>\n",
       "      <td>10.0</td>\n",
       "      <td>10.0</td>\n",
       "      <td>9.0</td>\n",
       "      <td>10.0</td>\n",
       "      <td>4.07</td>\n",
       "    </tr>\n",
       "    <tr>\n",
       "      <th>1</th>\n",
       "      <td>953595</td>\n",
       "      <td>2016-01-04</td>\n",
       "      <td>150</td>\n",
       "      <td>43</td>\n",
       "      <td>96.0</td>\n",
       "      <td>10.0</td>\n",
       "      <td>10.0</td>\n",
       "      <td>10.0</td>\n",
       "      <td>10.0</td>\n",
       "      <td>10.0</td>\n",
       "      <td>10.0</td>\n",
       "      <td>1.48</td>\n",
       "    </tr>\n",
       "  </tbody>\n",
       "</table>\n",
       "</div>"
      ],
      "text/plain": [
       "   home_id last_scraped  price  number_of_reviews  scores_overall  \\\n",
       "0   241032   2016-01-04     85                207            95.0   \n",
       "1   953595   2016-01-04    150                 43            96.0   \n",
       "\n",
       "   scores_accuracy  scores_cleanliness  scores_checkin  scores_communication  \\\n",
       "0             10.0                10.0            10.0                  10.0   \n",
       "1             10.0                10.0            10.0                  10.0   \n",
       "\n",
       "   scores_location  scores_value  reviews_per_month  \n",
       "0              9.0          10.0               4.07  \n",
       "1             10.0          10.0               1.48  "
      ]
     },
     "execution_count": 20,
     "metadata": {},
     "output_type": "execute_result"
    }
   ],
   "source": [
    "sample1_df = pd.read_csv(\"./Data/selected_data_for_research.csv\", sep='\\t', encoding=\"utf-8\")\n",
    "sample1_df = sample1_df.drop(\"Unnamed: 0\", axis=1)\n",
    "sample1_df.head(2)"
   ]
  },
  {
   "cell_type": "code",
   "execution_count": 21,
   "metadata": {},
   "outputs": [
    {
     "data": {
      "text/html": [
       "<div>\n",
       "<style scoped>\n",
       "    .dataframe tbody tr th:only-of-type {\n",
       "        vertical-align: middle;\n",
       "    }\n",
       "\n",
       "    .dataframe tbody tr th {\n",
       "        vertical-align: top;\n",
       "    }\n",
       "\n",
       "    .dataframe thead th {\n",
       "        text-align: right;\n",
       "    }\n",
       "</style>\n",
       "<table border=\"1\" class=\"dataframe\">\n",
       "  <thead>\n",
       "    <tr style=\"text-align: right;\">\n",
       "      <th></th>\n",
       "      <th>home_id</th>\n",
       "      <th>scores_cleanliness</th>\n",
       "      <th>scores_location</th>\n",
       "      <th>review_id</th>\n",
       "      <th>comments</th>\n",
       "    </tr>\n",
       "  </thead>\n",
       "  <tbody>\n",
       "    <tr>\n",
       "      <th>0</th>\n",
       "      <td>241032</td>\n",
       "      <td>10.0</td>\n",
       "      <td>9.0</td>\n",
       "      <td>682061</td>\n",
       "      <td>Excellent all the way around. \\r\\n\\r\\nMaija wa...</td>\n",
       "    </tr>\n",
       "    <tr>\n",
       "      <th>1</th>\n",
       "      <td>241032</td>\n",
       "      <td>10.0</td>\n",
       "      <td>9.0</td>\n",
       "      <td>691712</td>\n",
       "      <td>Maija's apartment was a wonderful place to sta...</td>\n",
       "    </tr>\n",
       "    <tr>\n",
       "      <th>2</th>\n",
       "      <td>241032</td>\n",
       "      <td>10.0</td>\n",
       "      <td>9.0</td>\n",
       "      <td>702999</td>\n",
       "      <td>one of the most pleasant stays i've had in my ...</td>\n",
       "    </tr>\n",
       "  </tbody>\n",
       "</table>\n",
       "</div>"
      ],
      "text/plain": [
       "   home_id  scores_cleanliness  scores_location  review_id  \\\n",
       "0   241032                10.0              9.0     682061   \n",
       "1   241032                10.0              9.0     691712   \n",
       "2   241032                10.0              9.0     702999   \n",
       "\n",
       "                                            comments  \n",
       "0  Excellent all the way around. \\r\\n\\r\\nMaija wa...  \n",
       "1  Maija's apartment was a wonderful place to sta...  \n",
       "2  one of the most pleasant stays i've had in my ...  "
      ]
     },
     "execution_count": 21,
     "metadata": {},
     "output_type": "execute_result"
    }
   ],
   "source": [
    "# Merge the reviews and homes in the sample data.\n",
    "df1 = sample1_df[['home_id', 'scores_cleanliness', 'scores_location']]\n",
    "df2 = reviews_df[['home_id', 'review_id', 'comments']]\n",
    "sample1_rh_df = pd.merge(df1, df2, on=\"home_id\")\n",
    "sample1_rh_df.head(3)\n",
    "# sample1_rh_df.stack()[0].comments"
   ]
  },
  {
   "cell_type": "code",
   "execution_count": 22,
   "metadata": {},
   "outputs": [
    {
     "data": {
      "text/plain": [
       "{7873208, 8097708, 9558353}"
      ]
     },
     "execution_count": 22,
     "metadata": {},
     "output_type": "execute_result"
    }
   ],
   "source": [
    "# set(sample1_rh_df.home_id)\n",
    "# set(homes_df)\n",
    "set(homes_df.home_id) - set(sample1_rh_df.home_id)\n",
    "# print(len(set(sample1_rh_df.home_id)), len(homes_df))"
   ]
  },
  {
   "cell_type": "code",
   "execution_count": 25,
   "metadata": {},
   "outputs": [
    {
     "data": {
      "text/html": [
       "<div>\n",
       "<style scoped>\n",
       "    .dataframe tbody tr th:only-of-type {\n",
       "        vertical-align: middle;\n",
       "    }\n",
       "\n",
       "    .dataframe tbody tr th {\n",
       "        vertical-align: top;\n",
       "    }\n",
       "\n",
       "    .dataframe thead th {\n",
       "        text-align: right;\n",
       "    }\n",
       "</style>\n",
       "<table border=\"1\" class=\"dataframe\">\n",
       "  <thead>\n",
       "    <tr style=\"text-align: right;\">\n",
       "      <th></th>\n",
       "      <th>home_id</th>\n",
       "      <th>last_scraped</th>\n",
       "      <th>price</th>\n",
       "      <th>number_of_reviews</th>\n",
       "      <th>scores_overall</th>\n",
       "      <th>scores_accuracy</th>\n",
       "      <th>scores_cleanliness</th>\n",
       "      <th>scores_checkin</th>\n",
       "      <th>scores_communication</th>\n",
       "      <th>scores_location</th>\n",
       "      <th>scores_value</th>\n",
       "      <th>reviews_per_month</th>\n",
       "    </tr>\n",
       "  </thead>\n",
       "  <tbody>\n",
       "    <tr>\n",
       "      <th>760</th>\n",
       "      <td>9558353</td>\n",
       "      <td>2016-01-04</td>\n",
       "      <td>70</td>\n",
       "      <td>1</td>\n",
       "      <td>100.0</td>\n",
       "      <td>10.0</td>\n",
       "      <td>10.0</td>\n",
       "      <td>10.0</td>\n",
       "      <td>10.0</td>\n",
       "      <td>10.0</td>\n",
       "      <td>10.0</td>\n",
       "      <td>0.77</td>\n",
       "    </tr>\n",
       "  </tbody>\n",
       "</table>\n",
       "</div>"
      ],
      "text/plain": [
       "     home_id last_scraped  price  number_of_reviews  scores_overall  \\\n",
       "760  9558353   2016-01-04     70                  1           100.0   \n",
       "\n",
       "     scores_accuracy  scores_cleanliness  scores_checkin  \\\n",
       "760             10.0                10.0            10.0   \n",
       "\n",
       "     scores_communication  scores_location  scores_value  reviews_per_month  \n",
       "760                  10.0             10.0          10.0               0.77  "
      ]
     },
     "execution_count": 25,
     "metadata": {},
     "output_type": "execute_result"
    }
   ],
   "source": [
    "homes_df[homes_df.home_id == 7873208]\n",
    "homes_df[homes_df.home_id == 9558353]"
   ]
  },
  {
   "cell_type": "markdown",
   "metadata": {},
   "source": [
    "**********************************************************************************************\n",
    "## Last Step: Get homes and reviews data for sentence analysis\n",
    "### Find data for `cleanliness` and `location` aspects \n",
    "**********************************************************************************************\n",
    "#### Brief Summary & Necessary Functions"
   ]
  },
  {
   "cell_type": "code",
   "execution_count": 23,
   "metadata": {
    "scrolled": true
   },
   "outputs": [
    {
     "name": "stdout",
     "output_type": "stream",
     "text": [
      "****************************************\n",
      "There are:\n",
      "----------------------------------------\n",
      "3155 Airbnb homes in total.\n",
      "----------------------------------------\n",
      "83682 reviews in total.\n",
      "----------------------------------------\n"
     ]
    }
   ],
   "source": [
    "# sample2_rh_df is a copy of sample1_rh_df to \n",
    "# in case unexpected modification for original data.\n",
    "sample2_rh_df = sample1_rh_df\n",
    "print('*' * 40 + '\\nThere are:\\n' + '-' * 40)\n",
    "print(str(len(sample2_rh_df.groupby('home_id'))) + \" Airbnb homes in total.\\n\" + '-' * 40)\n",
    "print(str(len(sample2_rh_df)) + \" reviews in total.\\n\" + '-' * 40)"
   ]
  },
  {
   "cell_type": "code",
   "execution_count": 28,
   "metadata": {},
   "outputs": [],
   "source": [
    "# group by aspect scores\n",
    "def overview_df(aspect):\n",
    "    df1 = pd.DataFrame(sample2_rh_df.groupby([aspect])['home_id'].nunique())\n",
    "    df2 = pd.DataFrame(sample2_rh_df.groupby([aspect])['review_id'].nunique())\n",
    "    overview_df = pd.merge(df1, df2, on = aspect)\n",
    "    overview_df.columns = ['number of homes', 'number of reveiws']\n",
    "    return overview_df\n",
    "# what makes people comments\n",
    "\n",
    "# Input: the expecting aspect and score\n",
    "# Output: the DataFrame with selected homes and their reviews information\n",
    "def home_sample_review(score, aspect, overview_df):\n",
    "    num_home = overview_df.loc[score].values[0]\n",
    "#     num_review = overview_df.loc[score].values[1]\n",
    "#     tmp = num_review/2000\n",
    "#     avy_num_review = num_review/num_home\n",
    "#     size = num_home/tmp\n",
    "    # Generate a uniform random sample using random\n",
    "    data = list(set(sample2_rh_df[sample2_rh_df[aspect] == score].home_id))\n",
    "    sample_home = np.random.choice(data, 75, replace=False)\n",
    "    \n",
    "    while not sample_validation(sample_home):\n",
    "        sample_home = np.random.choice(data, 75, replace=False)\n",
    "        if sample_validation(sample_home):\n",
    "            break\n",
    "        else:\n",
    "            continue\n",
    "\n",
    "    sample_home_review = sample2_rh_df[sample2_rh_df['home_id'].isin(sample_home)]\n",
    "    print(\"Selected 75 homes among \" + str(num_home) + \" homes with score \" + str(score) + \".\\nSample home_ids:\")\n",
    "    print(sample_home)\n",
    "    print(\"With in total: \" + str(len(sample_home_review)) + ' reviews.')\n",
    "    \n",
    "    return sample_home_review\n",
    "\n",
    "# This is a function is to guarantee:\n",
    "# the number of reviews of the selected homes keeps around 1500.\n",
    "def sample_validation(sample_home):\n",
    "    sample_home_review = sample2_rh_df[sample2_rh_df['home_id'].isin(sample_home)]\n",
    "    return True if np.abs(len(sample_home_review) - 2000) <= 100 else False"
   ]
  },
  {
   "cell_type": "markdown",
   "metadata": {},
   "source": [
    "**********************************************************************************************\n",
    "#### Get data for `cleanliness` aspect\n",
    "\n",
    "Group homes with <= 7.0 cleanliness score together.\n",
    "Based on literature review, the airbnb review score has positive bias. So, for score equal to or less than 7, we can assume there is a negetive implication of the homes.\n",
    "As for homes with >= 9.0 score, randomly select sample as long as gurrantee 1500 number of reviews. "
   ]
  },
  {
   "cell_type": "code",
   "execution_count": 29,
   "metadata": {},
   "outputs": [
    {
     "data": {
      "text/html": [
       "<div>\n",
       "<style scoped>\n",
       "    .dataframe tbody tr th:only-of-type {\n",
       "        vertical-align: middle;\n",
       "    }\n",
       "\n",
       "    .dataframe tbody tr th {\n",
       "        vertical-align: top;\n",
       "    }\n",
       "\n",
       "    .dataframe thead th {\n",
       "        text-align: right;\n",
       "    }\n",
       "</style>\n",
       "<table border=\"1\" class=\"dataframe\">\n",
       "  <thead>\n",
       "    <tr style=\"text-align: right;\">\n",
       "      <th></th>\n",
       "      <th>number of homes</th>\n",
       "      <th>number of reveiws</th>\n",
       "    </tr>\n",
       "    <tr>\n",
       "      <th>scores_cleanliness</th>\n",
       "      <th></th>\n",
       "      <th></th>\n",
       "    </tr>\n",
       "  </thead>\n",
       "  <tbody>\n",
       "    <tr>\n",
       "      <th>3.0</th>\n",
       "      <td>1</td>\n",
       "      <td>2</td>\n",
       "    </tr>\n",
       "    <tr>\n",
       "      <th>4.0</th>\n",
       "      <td>4</td>\n",
       "      <td>9</td>\n",
       "    </tr>\n",
       "    <tr>\n",
       "      <th>5.0</th>\n",
       "      <td>5</td>\n",
       "      <td>23</td>\n",
       "    </tr>\n",
       "    <tr>\n",
       "      <th>6.0</th>\n",
       "      <td>30</td>\n",
       "      <td>107</td>\n",
       "    </tr>\n",
       "    <tr>\n",
       "      <th>7.0</th>\n",
       "      <td>40</td>\n",
       "      <td>511</td>\n",
       "    </tr>\n",
       "    <tr>\n",
       "      <th>8.0</th>\n",
       "      <td>183</td>\n",
       "      <td>3569</td>\n",
       "    </tr>\n",
       "    <tr>\n",
       "      <th>9.0</th>\n",
       "      <td>740</td>\n",
       "      <td>22197</td>\n",
       "    </tr>\n",
       "    <tr>\n",
       "      <th>10.0</th>\n",
       "      <td>2152</td>\n",
       "      <td>57264</td>\n",
       "    </tr>\n",
       "  </tbody>\n",
       "</table>\n",
       "</div>"
      ],
      "text/plain": [
       "                    number of homes  number of reveiws\n",
       "scores_cleanliness                                    \n",
       "3.0                               1                  2\n",
       "4.0                               4                  9\n",
       "5.0                               5                 23\n",
       "6.0                              30                107\n",
       "7.0                              40                511\n",
       "8.0                             183               3569\n",
       "9.0                             740              22197\n",
       "10.0                           2152              57264"
      ]
     },
     "execution_count": 29,
     "metadata": {},
     "output_type": "execute_result"
    }
   ],
   "source": [
    "clean_overview_df = overview_df('scores_cleanliness')\n",
    "clean_overview_df\n",
    "# clean_overview_df['number of reveiws']/clean_overview_df['number of homes']"
   ]
  },
  {
   "cell_type": "code",
   "execution_count": 30,
   "metadata": {},
   "outputs": [
    {
     "name": "stdout",
     "output_type": "stream",
     "text": [
      "Selected all homes with score no more than 7.0. \n",
      "Sample home_ids:\n",
      "[7965184, 3291777, 6363779, 8754180, 3770248, 6370313, 1764233, 8594059, 4041868, 3766285, 9151374, 5479566, 666897, 7245586, 7934356, 4701205, 7093910, 1520533, 30712, 639130, 3889050, 3888924, 3534364, 716829, 6250399, 613151, 9509279, 5252515, 8934054, 4951079, 5353512, 3226793, 8083242, 8555304, 299817, 6865200, 7985714, 7203765, 5261239, 6992696, 670009, 8922554, 4340410, 8050232, 6864319, 2769088, 1520581, 670021, 3697351, 5639238, 4082250, 1520593, 8227710, 4550099, 7844444, 5126365, 9183838, 9519968, 8863714, 5078244, 6958436, 9075558, 6623079, 6959336, 7732071, 2856806, 5637990, 8067053, 4773614, 3593582, 6120046, 4892529, 3424242, 6717555, 7975026, 1145590, 3052151, 2357110, 3732094, 3096191]\n",
      "With in total: 652 reviews.\n",
      "******************************************************************************************\n"
     ]
    },
    {
     "ename": "NameError",
     "evalue": "name 'num_home' is not defined",
     "output_type": "error",
     "traceback": [
      "\u001b[0;31m---------------------------------------------------------------------------\u001b[0m",
      "\u001b[0;31mNameError\u001b[0m                                 Traceback (most recent call last)",
      "\u001b[0;32m<ipython-input-30-1252edc2b00f>\u001b[0m in \u001b[0;36m<module>\u001b[0;34m\u001b[0m\n\u001b[1;32m      5\u001b[0m \u001b[0mprint\u001b[0m\u001b[0;34m(\u001b[0m\u001b[0;34m\"With in total: \"\u001b[0m \u001b[0;34m+\u001b[0m \u001b[0mstr\u001b[0m\u001b[0;34m(\u001b[0m\u001b[0mlen\u001b[0m\u001b[0;34m(\u001b[0m\u001b[0mclean_score7_df\u001b[0m\u001b[0;34m)\u001b[0m\u001b[0;34m)\u001b[0m \u001b[0;34m+\u001b[0m \u001b[0;34m' reviews.'\u001b[0m\u001b[0;34m)\u001b[0m\u001b[0;34m\u001b[0m\u001b[0;34m\u001b[0m\u001b[0m\n\u001b[1;32m      6\u001b[0m \u001b[0mprint\u001b[0m\u001b[0;34m(\u001b[0m\u001b[0;34m'*'\u001b[0m \u001b[0;34m*\u001b[0m \u001b[0;36m90\u001b[0m\u001b[0;34m)\u001b[0m\u001b[0;34m\u001b[0m\u001b[0;34m\u001b[0m\u001b[0m\n\u001b[0;32m----> 7\u001b[0;31m \u001b[0mclean_score8_df\u001b[0m \u001b[0;34m=\u001b[0m \u001b[0mhome_sample_review\u001b[0m\u001b[0;34m(\u001b[0m\u001b[0;36m8.0\u001b[0m\u001b[0;34m,\u001b[0m \u001b[0;34m'scores_cleanliness'\u001b[0m\u001b[0;34m,\u001b[0m \u001b[0mclean_overview_df\u001b[0m\u001b[0;34m)\u001b[0m\u001b[0;34m\u001b[0m\u001b[0;34m\u001b[0m\u001b[0m\n\u001b[0m\u001b[1;32m      8\u001b[0m \u001b[0mprint\u001b[0m\u001b[0;34m(\u001b[0m\u001b[0;34m'*'\u001b[0m \u001b[0;34m*\u001b[0m \u001b[0;36m90\u001b[0m\u001b[0;34m)\u001b[0m\u001b[0;34m\u001b[0m\u001b[0;34m\u001b[0m\u001b[0m\n\u001b[1;32m      9\u001b[0m \u001b[0mclean_score9_df\u001b[0m \u001b[0;34m=\u001b[0m \u001b[0mhome_sample_review\u001b[0m\u001b[0;34m(\u001b[0m\u001b[0;36m9.0\u001b[0m\u001b[0;34m,\u001b[0m \u001b[0;34m'scores_cleanliness'\u001b[0m\u001b[0;34m,\u001b[0m \u001b[0mclean_overview_df\u001b[0m\u001b[0;34m)\u001b[0m\u001b[0;34m\u001b[0m\u001b[0;34m\u001b[0m\u001b[0m\n",
      "\u001b[0;32m<ipython-input-28-35bbedea3f7e>\u001b[0m in \u001b[0;36mhome_sample_review\u001b[0;34m(score, aspect, overview_df)\u001b[0m\n\u001b[1;32m     28\u001b[0m \u001b[0;34m\u001b[0m\u001b[0m\n\u001b[1;32m     29\u001b[0m     \u001b[0msample_home_review\u001b[0m \u001b[0;34m=\u001b[0m \u001b[0msample2_rh_df\u001b[0m\u001b[0;34m[\u001b[0m\u001b[0msample2_rh_df\u001b[0m\u001b[0;34m[\u001b[0m\u001b[0;34m'home_id'\u001b[0m\u001b[0;34m]\u001b[0m\u001b[0;34m.\u001b[0m\u001b[0misin\u001b[0m\u001b[0;34m(\u001b[0m\u001b[0msample_home\u001b[0m\u001b[0;34m)\u001b[0m\u001b[0;34m]\u001b[0m\u001b[0;34m\u001b[0m\u001b[0;34m\u001b[0m\u001b[0m\n\u001b[0;32m---> 30\u001b[0;31m     \u001b[0mprint\u001b[0m\u001b[0;34m(\u001b[0m\u001b[0;34m\"Selected 75 homes among \"\u001b[0m \u001b[0;34m+\u001b[0m \u001b[0mstr\u001b[0m\u001b[0;34m(\u001b[0m\u001b[0mnum_home\u001b[0m\u001b[0;34m)\u001b[0m \u001b[0;34m+\u001b[0m \u001b[0;34m\" homes with score \"\u001b[0m \u001b[0;34m+\u001b[0m \u001b[0mstr\u001b[0m\u001b[0;34m(\u001b[0m\u001b[0mscore\u001b[0m\u001b[0;34m)\u001b[0m \u001b[0;34m+\u001b[0m \u001b[0;34m\".\\nSample home_ids:\"\u001b[0m\u001b[0;34m)\u001b[0m\u001b[0;34m\u001b[0m\u001b[0;34m\u001b[0m\u001b[0m\n\u001b[0m\u001b[1;32m     31\u001b[0m     \u001b[0mprint\u001b[0m\u001b[0;34m(\u001b[0m\u001b[0msample_home\u001b[0m\u001b[0;34m)\u001b[0m\u001b[0;34m\u001b[0m\u001b[0;34m\u001b[0m\u001b[0m\n\u001b[1;32m     32\u001b[0m     \u001b[0mprint\u001b[0m\u001b[0;34m(\u001b[0m\u001b[0;34m\"With in total: \"\u001b[0m \u001b[0;34m+\u001b[0m \u001b[0mstr\u001b[0m\u001b[0;34m(\u001b[0m\u001b[0mlen\u001b[0m\u001b[0;34m(\u001b[0m\u001b[0msample_home_review\u001b[0m\u001b[0;34m)\u001b[0m\u001b[0;34m)\u001b[0m \u001b[0;34m+\u001b[0m \u001b[0;34m' reviews.'\u001b[0m\u001b[0;34m)\u001b[0m\u001b[0;34m\u001b[0m\u001b[0;34m\u001b[0m\u001b[0m\n",
      "\u001b[0;31mNameError\u001b[0m: name 'num_home' is not defined"
     ]
    }
   ],
   "source": [
    "# number of review selection around 1500.\n",
    "clean_score7_df = sample2_rh_df[sample2_rh_df['scores_cleanliness'] <= 7.0]\n",
    "print('Selected all homes with score no more than 7.0. \\nSample home_ids:')\n",
    "print(list(set(clean_score7_df.home_id)))\n",
    "print(\"With in total: \" + str(len(clean_score7_df)) + ' reviews.')\n",
    "print('*' * 90)\n",
    "clean_score8_df = home_sample_review(8.0, 'scores_cleanliness', clean_overview_df)\n",
    "print('*' * 90)\n",
    "clean_score9_df = home_sample_review(9.0, 'scores_cleanliness', clean_overview_df)\n",
    "print('*' * 90)\n",
    "clean_score10_df = home_sample_review(10.0, 'scores_cleanliness', clean_overview_df)\n",
    "print('*' * 90)\n",
    "\n",
    "clean_score7_df.to_csv('./Data/clean_score7_df.csv', sep='\\t', encoding='utf-8')\n",
    "clean_score8_df.to_csv('./Data/clean_score8_df.csv', sep='\\t', encoding='utf-8')\n",
    "clean_score9_df.to_csv('./Data/clean_score9_df.csv', sep='\\t', encoding='utf-8')\n",
    "clean_score10_df.to_csv('./Data/clean_score10_df.csv', sep='\\t', encoding='utf-8')"
   ]
  },
  {
   "cell_type": "markdown",
   "metadata": {},
   "source": [
    "**********************************************************************************************\n",
    "#### Get data for `location` aspect\n",
    "\n",
    "Group homes with <= 7.0 cleanliness score together."
   ]
  },
  {
   "cell_type": "code",
   "execution_count": 61,
   "metadata": {},
   "outputs": [
    {
     "data": {
      "text/html": [
       "<div>\n",
       "<style scoped>\n",
       "    .dataframe tbody tr th:only-of-type {\n",
       "        vertical-align: middle;\n",
       "    }\n",
       "\n",
       "    .dataframe tbody tr th {\n",
       "        vertical-align: top;\n",
       "    }\n",
       "\n",
       "    .dataframe thead th {\n",
       "        text-align: right;\n",
       "    }\n",
       "</style>\n",
       "<table border=\"1\" class=\"dataframe\">\n",
       "  <thead>\n",
       "    <tr style=\"text-align: right;\">\n",
       "      <th></th>\n",
       "      <th>number of homes</th>\n",
       "      <th>number of reveiws</th>\n",
       "    </tr>\n",
       "    <tr>\n",
       "      <th>scores_location</th>\n",
       "      <th></th>\n",
       "      <th></th>\n",
       "    </tr>\n",
       "  </thead>\n",
       "  <tbody>\n",
       "    <tr>\n",
       "      <th>4.0</th>\n",
       "      <td>1</td>\n",
       "      <td>1</td>\n",
       "    </tr>\n",
       "    <tr>\n",
       "      <th>6.0</th>\n",
       "      <td>8</td>\n",
       "      <td>13</td>\n",
       "    </tr>\n",
       "    <tr>\n",
       "      <th>7.0</th>\n",
       "      <td>19</td>\n",
       "      <td>150</td>\n",
       "    </tr>\n",
       "    <tr>\n",
       "      <th>8.0</th>\n",
       "      <td>128</td>\n",
       "      <td>1833</td>\n",
       "    </tr>\n",
       "    <tr>\n",
       "      <th>9.0</th>\n",
       "      <td>884</td>\n",
       "      <td>29154</td>\n",
       "    </tr>\n",
       "    <tr>\n",
       "      <th>10.0</th>\n",
       "      <td>2115</td>\n",
       "      <td>52544</td>\n",
       "    </tr>\n",
       "  </tbody>\n",
       "</table>\n",
       "</div>"
      ],
      "text/plain": [
       "                 number of homes  number of reveiws\n",
       "scores_location                                    \n",
       "4.0                            1                  1\n",
       "6.0                            8                 13\n",
       "7.0                           19                150\n",
       "8.0                          128               1833\n",
       "9.0                          884              29154\n",
       "10.0                        2115              52544"
      ]
     },
     "execution_count": 61,
     "metadata": {},
     "output_type": "execute_result"
    }
   ],
   "source": [
    "loc_overview_df = overview_df('scores_location')\n",
    "loc_overview_df"
   ]
  },
  {
   "cell_type": "code",
   "execution_count": 21,
   "metadata": {},
   "outputs": [
    {
     "name": "stdout",
     "output_type": "stream",
     "text": [
      "Selected all homes with score no more than 7.0. \n",
      "Sample home_ids:\n",
      "[7965184, 8061699, 190984, 4041868, 1549973, 6215199, 613151, 6250399, 4951079, 5353512, 8083242, 5792683, 7071021, 6019762, 1022135, 23356, 4126284, 5104077, 7415378, 6701018, 9183838, 3706719, 5637990, 6959336, 7839723, 1263470, 9157232]\n",
      "With in total: 169 reviews.\n",
      "******************************************************************************************\n",
      "Selected 103 homes among 121 homes with score 8.0.\n",
      "Sample home_ids:\n",
      "[1815472 9473312 8342968 7922663 5407311 7934356 2056276 4340410 9519968\n",
      " 1179538 6907671 4589654  385438 8988178 5126077 8799588 7902068 6325283\n",
      " 7095802  286712 1340668 1571230 9199982 1484651 8921924 3630581  611500\n",
      " 7013085 5340242 3316219 2134911  693956 6249164 4708075 7500000 9134196\n",
      " 9532861 1566487 9300972 8168876 8952253 3449059 2586350 9507115 3726391\n",
      " 9238818  264829 1499596 2610187  609610  571640 3544964  877203 7219541\n",
      " 4130112  716829 6714817 4395654 3849918 9151374 6425652 3303857 7205443\n",
      " 7388899 4105081 7048843 6545246 5376433 5744931 1672979 4163851 3859882\n",
      " 3329962 6226666  666897 6416765 7420488 6133684 9186256 6411986 9736940\n",
      " 2800448 1905473  571651 7429207 8525825 5219336 3533112 7431247 2980762\n",
      " 4144767 7027507 4395578 5931372 3904056 1652107 2986056 8848854  696004\n",
      " 9564093 3951768  278192 5471427]\n",
      "With in total: 1488 reviews.\n",
      "******************************************************************************************\n",
      "Selected 42 homes among 823 homes with score 9.0.\n",
      "Sample home_ids:\n",
      "[5164581  153967 6002165 1063855 3206305 4583161 1407502 8034871  257140\n",
      " 4082250 7561272 5793477 4258515 4061207 7664565 3732103 3889050 7585688\n",
      " 6782993 3115801 4106041 1264287  158953 1599856 4518037 8409962 3422894\n",
      " 7483750 1856970  492287 6482409 5620928  491958 6421243 5593399 7714585\n",
      " 4374326   15108 9091301 4681687  826436  443580]\n",
      "With in total: 1470 reviews.\n",
      "******************************************************************************************\n",
      "Selected 56 homes among 1919 homes with score 10.0.\n",
      "Sample home_ids:\n",
      "[7077910 6823781 5249067 7564942 3394936 7243974 3888986 1534622 3906076\n",
      " 7455068 9615941 9151865 1790020  261912 8009814 8065531 8418650 6276224\n",
      " 3505739 4410544 4933447 6344566 7828222 3479851 7745196 6992387 6127974\n",
      " 4869458 3489083 7870538 4993710  565703 4053644 4660460 9236961 1084084\n",
      " 6835466 7561333 7953211 5067177 8473056  170273 1039766 7900497 8597687\n",
      " 7803176 9727246 6316917 8102349 4532538 8150395 2386589 9075656 8012443\n",
      " 3971137   58503]\n",
      "With in total: 1466 reviews.\n",
      "******************************************************************************************\n"
     ]
    }
   ],
   "source": [
    "# number of review selection around 1500.\n",
    "loc_score7_df = sample2_rh_df[sample2_rh_df['scores_location'] <= 7.0]\n",
    "print('Selected all homes with score no more than 7.0. \\nSample home_ids:')\n",
    "print(list(set(loc_score7_df.home_id)))\n",
    "print(\"With in total: \" + str(len(loc_score7_df)) + ' reviews.')\n",
    "print('*' * 90)\n",
    "loc_score8_df = home_sample_review(8.0, 'scores_location', loc_overview_df)\n",
    "print('*' * 90)\n",
    "loc_score9_df = home_sample_review(9.0, 'scores_location', loc_overview_df)\n",
    "print('*' * 90)\n",
    "loc_score10_df = home_sample_review(10.0, 'scores_location', loc_overview_df)\n",
    "print('*' * 90)\n",
    "\n",
    "loc_score7_df.to_csv('./Data/loc_score7_df.csv', sep='\\t', encoding='utf-8')\n",
    "loc_score8_df.to_csv('./Data/loc_score8_df.csv', sep='\\t', encoding='utf-8')\n",
    "loc_score9_df.to_csv('./Data/loc_score9_df.csv', sep='\\t', encoding='utf-8')\n",
    "loc_score10_df.to_csv('./Data/loc_score10_df.csv', sep='\\t', encoding='utf-8')"
   ]
  },
  {
   "cell_type": "code",
   "execution_count": null,
   "metadata": {},
   "outputs": [],
   "source": []
  }
 ],
 "metadata": {
  "kernelspec": {
   "display_name": "Python 3",
   "language": "python",
   "name": "python3"
  },
  "language_info": {
   "codemirror_mode": {
    "name": "ipython",
    "version": 3
   },
   "file_extension": ".py",
   "mimetype": "text/x-python",
   "name": "python",
   "nbconvert_exporter": "python",
   "pygments_lexer": "ipython3",
   "version": "3.6.8"
  }
 },
 "nbformat": 4,
 "nbformat_minor": 2
}

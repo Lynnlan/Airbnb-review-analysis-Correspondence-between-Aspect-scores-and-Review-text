{
 "cells": [
  {
   "cell_type": "code",
   "execution_count": 7,
   "metadata": {},
   "outputs": [],
   "source": [
    "import re\n",
    "from pandas import Series, DataFrame\n",
    "import pandas as pd\n",
    "from numpy.random import randn\n",
    "import numpy as np\n",
    "%matplotlib inline \n",
    "import matplotlib.pyplot as plt\n",
    "import os\n",
    "import nltk\n",
    "import spacy"
   ]
  },
  {
   "cell_type": "markdown",
   "metadata": {},
   "source": [
    "*******\n",
    "### Here, the logic of determine the aspect that a sentence talking about is:\n",
    "\n",
    "* `aspect_keywords_dic` is a dictionary contains aspects and their relevant keywords.\n",
    "\n",
    "* Firstly, I use the Word2Vec similarity algorithm to count the similarity score between two words.\n",
    "\n",
    "* For each sentence, the aspect-similarity-score will `+1` when one word in it has the word-similarity-score with any word in keyword list lager than `0.7`(this number can change based on needs). \n",
    "\n",
    "* I tried use the total scores of all vectors(word-in-sentence to word-in-keywords), however, the results are very strange."
   ]
  },
  {
   "cell_type": "code",
   "execution_count": 8,
   "metadata": {},
   "outputs": [],
   "source": [
    "nlp = spacy.load('en_core_web_lg')"
   ]
  },
  {
   "cell_type": "code",
   "execution_count": 9,
   "metadata": {},
   "outputs": [],
   "source": [
    "aspect_keywords_dic = {\n",
    "    'location': ['region', 'locality', 'neck_of_the_woods', 'location', 'vicinity',\n",
    "                 'neighbourhood', 'neighborhood'],\n",
    "    'cleanliness': ['tidy_up', 'straighten_out', 'cleanliness', 'clean', \n",
    "                    'neaten', 'square_away', 'straighten', 'clean_house', 'make_clean', \n",
    "                    'tidy', 'houseclean', 'clean_up', 'scavenge',\n",
    "                   'soiled', 'unclean', 'colly', 'bemire', 'uncleanliness', 'soil', 'begrime',\n",
    "                    'grime', 'untidy', 'dirty']\n",
    "}\n",
    "\n",
    "def sim_sents(doc, aspect, sim):\n",
    "    sim_sents = []\n",
    "    aspect_keywords = nlp(' '.join(aspect_keywords_dic[aspect]))\n",
    "    \n",
    "    for which_sen in range(len(list(doc.sents))):\n",
    "        new_doc = list(doc.sents)[which_sen].text        \n",
    "        sen_keywords = nlp(new_doc)\n",
    "        \n",
    "        if compute_score(sen_keywords, aspect_keywords, sim) > 0:\n",
    "            sim_sents.append(new_doc)\n",
    "    \n",
    "    return sim_sents\n",
    "\n",
    "def compute_score(sen_keywords, aspect_keywords, sim):\n",
    "    count = 0\n",
    "    for token1 in sen_keywords:\n",
    "        for token2 in aspect_keywords:\n",
    "            if token1.similarity(token2) >= sim:\n",
    "                count += 1 \n",
    "    return count"
   ]
  },
  {
   "cell_type": "code",
   "execution_count": 10,
   "metadata": {},
   "outputs": [],
   "source": [
    "def asp_rlt_sents_of_homes(aspect, sample_df):\n",
    "    \n",
    "    score_dic = {}\n",
    "    score_name = 'scores_'+aspect\n",
    "    score_series = sample_df.groupby(['home_id'])['review_id'].count()\n",
    "    summary_df = pd.DataFrame(columns=['home_id','num_of_reviews', 'num_of_sents',\n",
    "                                       'aspect', 'num_of_sents_0.5', 'num_of_sents_0.6', \n",
    "                                       'num_of_sents_0.7', 'sents_0.5', 'sents_0.6', 'sents_0.7'])\n",
    "\n",
    "    for i in range(len(score_series)):\n",
    "        \n",
    "        print(\"home\" + str(i+1))\n",
    "        home_id = score_series.index[i]\n",
    "        num_of_reviews = score_series.values[i]\n",
    "        num_of_sents = count_sents(home_id, sample_df)[0]\n",
    "        num_of_sents_05, sents_05 = home_sents_process(home_id, sample_df, aspect, 0.5)\n",
    "        num_of_sents_06, sents_06 = home_sents_process(home_id, sample_df, aspect, 0.6)\n",
    "        num_of_sents_07, sents_07 = home_sents_process(home_id, sample_df, aspect, 0.7)\n",
    "\n",
    "        summary_df.loc[i] = [home_id, num_of_reviews, num_of_sents, aspect, num_of_sents_05, \n",
    "                             num_of_sents_06, num_of_sents_07, sents_05, sents_06, sents_07]\n",
    "\n",
    "    return summary_df\n",
    "\n",
    "def count_sents(home_id, sample_df):\n",
    "    # all comments together\n",
    "    comments_list = [x for x in list(sample_df[sample_df.home_id == home_id].comments) if isinstance(x, str)]\n",
    "    comments = ''.join(comments_list)\n",
    "    doc = nlp(comments)\n",
    "    \n",
    "    return len(list(doc.sents)), doc\n",
    "    \n",
    "def home_sents_process(home_id, sample_df, aspect, sim):\n",
    "    doc = count_sents(home_id, sample_df)[1]\n",
    "#     sents_score_dic = sents_sim_score(doc, aspect, sim)\n",
    "#     home_asp_sents = sents_score_dic[sents_score_dic['aspect_sim_score'] != 0].text.values\n",
    "    home_asp_sents = sim_sents(doc, aspect, sim)\n",
    "\n",
    "    return len(home_asp_sents), home_asp_sents"
   ]
  },
  {
   "cell_type": "markdown",
   "metadata": {},
   "source": [
    "### Let's see the result of homes with different cleanliness score."
   ]
  },
  {
   "cell_type": "code",
   "execution_count": null,
   "metadata": {},
   "outputs": [
    {
     "name": "stdout",
     "output_type": "stream",
     "text": [
      "652\n",
      "home1\n",
      "home2\n",
      "home3\n",
      "home4\n",
      "home5\n",
      "home6\n",
      "home7\n",
      "home8\n",
      "home9\n",
      "home10\n",
      "home11\n",
      "home12\n",
      "home13\n",
      "home14\n",
      "home15\n",
      "home16\n",
      "home17\n",
      "home18\n",
      "home19\n",
      "home20\n",
      "home21\n",
      "home22\n",
      "home23\n",
      "home24\n",
      "home25\n",
      "home26\n",
      "home27\n",
      "home28\n",
      "home29\n",
      "home30\n",
      "home31\n",
      "home32\n",
      "home33\n",
      "home34\n",
      "home35\n",
      "home36\n",
      "home37\n",
      "home38\n",
      "home39\n",
      "home40\n",
      "home41\n",
      "home42\n",
      "home43\n",
      "home44\n",
      "home45\n",
      "home46\n",
      "home47\n",
      "home48\n",
      "home49\n",
      "home50\n",
      "home51\n",
      "home52\n",
      "home53\n"
     ]
    }
   ],
   "source": [
    "# Load Data: hr means homes&reviews\n",
    "clean_score7_hr_df = pd.read_csv(\"../Data/clean_score7_df.csv\", sep='\\t', encoding=\"utf-8\").drop(\"Unnamed: 0\", axis=1)\n",
    "print(len(clean_score7_hr_df))\n",
    "\n",
    "clean_score7_homes_sents = asp_rlt_sents_of_homes('cleanliness', clean_score7_hr_df)\n",
    "clean_score7_homes_sents.to_csv('../Data/clean_hs_df_7.csv', sep='\\t', encoding='utf-8')\n",
    "clean_score7_homes_sents.head(3)"
   ]
  },
  {
   "cell_type": "code",
   "execution_count": null,
   "metadata": {},
   "outputs": [],
   "source": []
  }
 ],
 "metadata": {
  "kernelspec": {
   "display_name": "Python 3",
   "language": "python",
   "name": "python3"
  },
  "language_info": {
   "codemirror_mode": {
    "name": "ipython",
    "version": 3
   },
   "file_extension": ".py",
   "mimetype": "text/x-python",
   "name": "python",
   "nbconvert_exporter": "python",
   "pygments_lexer": "ipython3",
   "version": "3.6.8"
  }
 },
 "nbformat": 4,
 "nbformat_minor": 2
}

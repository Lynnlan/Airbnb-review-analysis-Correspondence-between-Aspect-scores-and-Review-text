{
 "cells": [
  {
   "cell_type": "code",
   "execution_count": 1,
   "metadata": {},
   "outputs": [],
   "source": [
    "import re\n",
    "from pandas import Series, DataFrame\n",
    "import pandas as pd\n",
    "from numpy.random import randn\n",
    "import numpy as np\n",
    "%matplotlib inline \n",
    "import matplotlib.pyplot as plt\n",
    "# import seaborn as sns"
   ]
  },
  {
   "cell_type": "code",
   "execution_count": 2,
   "metadata": {},
   "outputs": [
    {
     "data": {
      "text/html": [
       "<div>\n",
       "<style scoped>\n",
       "    .dataframe tbody tr th:only-of-type {\n",
       "        vertical-align: middle;\n",
       "    }\n",
       "\n",
       "    .dataframe tbody tr th {\n",
       "        vertical-align: top;\n",
       "    }\n",
       "\n",
       "    .dataframe thead th {\n",
       "        text-align: right;\n",
       "    }\n",
       "</style>\n",
       "<table border=\"1\" class=\"dataframe\">\n",
       "  <thead>\n",
       "    <tr style=\"text-align: right;\">\n",
       "      <th></th>\n",
       "      <th>home_id</th>\n",
       "      <th>review_id</th>\n",
       "      <th>date</th>\n",
       "      <th>reviewer_id</th>\n",
       "      <th>reviewer_name</th>\n",
       "      <th>comments</th>\n",
       "    </tr>\n",
       "  </thead>\n",
       "  <tbody>\n",
       "    <tr>\n",
       "      <th>0</th>\n",
       "      <td>7202016</td>\n",
       "      <td>38917982</td>\n",
       "      <td>2015-07-19</td>\n",
       "      <td>28943674</td>\n",
       "      <td>Bianca</td>\n",
       "      <td>Cute and cozy place. Perfect location to every...</td>\n",
       "    </tr>\n",
       "    <tr>\n",
       "      <th>1</th>\n",
       "      <td>7202016</td>\n",
       "      <td>39087409</td>\n",
       "      <td>2015-07-20</td>\n",
       "      <td>32440555</td>\n",
       "      <td>Frank</td>\n",
       "      <td>Kelly has a great room in a very central locat...</td>\n",
       "    </tr>\n",
       "    <tr>\n",
       "      <th>2</th>\n",
       "      <td>7202016</td>\n",
       "      <td>39820030</td>\n",
       "      <td>2015-07-26</td>\n",
       "      <td>37722850</td>\n",
       "      <td>Ian</td>\n",
       "      <td>Very spacious apartment, and in a great neighb...</td>\n",
       "    </tr>\n",
       "    <tr>\n",
       "      <th>3</th>\n",
       "      <td>7202016</td>\n",
       "      <td>40813543</td>\n",
       "      <td>2015-08-02</td>\n",
       "      <td>33671805</td>\n",
       "      <td>George</td>\n",
       "      <td>Close to Seattle Center and all it has to offe...</td>\n",
       "    </tr>\n",
       "    <tr>\n",
       "      <th>4</th>\n",
       "      <td>7202016</td>\n",
       "      <td>41986501</td>\n",
       "      <td>2015-08-10</td>\n",
       "      <td>34959538</td>\n",
       "      <td>Ming</td>\n",
       "      <td>Kelly was a great host and very accommodating ...</td>\n",
       "    </tr>\n",
       "  </tbody>\n",
       "</table>\n",
       "</div>"
      ],
      "text/plain": [
       "   home_id  review_id        date  reviewer_id reviewer_name  \\\n",
       "0  7202016   38917982  2015-07-19     28943674        Bianca   \n",
       "1  7202016   39087409  2015-07-20     32440555         Frank   \n",
       "2  7202016   39820030  2015-07-26     37722850           Ian   \n",
       "3  7202016   40813543  2015-08-02     33671805        George   \n",
       "4  7202016   41986501  2015-08-10     34959538          Ming   \n",
       "\n",
       "                                            comments  \n",
       "0  Cute and cozy place. Perfect location to every...  \n",
       "1  Kelly has a great room in a very central locat...  \n",
       "2  Very spacious apartment, and in a great neighb...  \n",
       "3  Close to Seattle Center and all it has to offe...  \n",
       "4  Kelly was a great host and very accommodating ...  "
      ]
     },
     "execution_count": 2,
     "metadata": {},
     "output_type": "execute_result"
    }
   ],
   "source": [
    "# Load Necessary Data: reviews\n",
    "reviews_df = pd.read_csv(\"./Data/reviews.csv\", encoding=\"utf-8\")\n",
    "reviews_df.columns = ['home_id', 'review_id', 'date', 'reviewer_id', 'reviewer_name', 'comments']\n",
    "reviews_df.dropna()\n",
    "reviews_df.head(5)"
   ]
  },
  {
   "cell_type": "code",
   "execution_count": 3,
   "metadata": {},
   "outputs": [
    {
     "data": {
      "text/html": [
       "<div>\n",
       "<style scoped>\n",
       "    .dataframe tbody tr th:only-of-type {\n",
       "        vertical-align: middle;\n",
       "    }\n",
       "\n",
       "    .dataframe tbody tr th {\n",
       "        vertical-align: top;\n",
       "    }\n",
       "\n",
       "    .dataframe thead th {\n",
       "        text-align: right;\n",
       "    }\n",
       "</style>\n",
       "<table border=\"1\" class=\"dataframe\">\n",
       "  <thead>\n",
       "    <tr style=\"text-align: right;\">\n",
       "      <th></th>\n",
       "      <th>home_id</th>\n",
       "      <th>accommodates</th>\n",
       "      <th>price</th>\n",
       "      <th>number_of_reviews</th>\n",
       "      <th>scores_overall</th>\n",
       "      <th>scores_accuracy</th>\n",
       "      <th>scores_cleanliness</th>\n",
       "      <th>scores_checkin</th>\n",
       "      <th>scores_communication</th>\n",
       "      <th>scores_location</th>\n",
       "      <th>scores_value</th>\n",
       "      <th>reviews_per_month</th>\n",
       "    </tr>\n",
       "  </thead>\n",
       "  <tbody>\n",
       "    <tr>\n",
       "      <th>0</th>\n",
       "      <td>241032</td>\n",
       "      <td>4</td>\n",
       "      <td>$85.00</td>\n",
       "      <td>207</td>\n",
       "      <td>95.0</td>\n",
       "      <td>10.0</td>\n",
       "      <td>10.0</td>\n",
       "      <td>10.0</td>\n",
       "      <td>10.0</td>\n",
       "      <td>9.0</td>\n",
       "      <td>10.0</td>\n",
       "      <td>4.07</td>\n",
       "    </tr>\n",
       "    <tr>\n",
       "      <th>1</th>\n",
       "      <td>953595</td>\n",
       "      <td>4</td>\n",
       "      <td>$150.00</td>\n",
       "      <td>43</td>\n",
       "      <td>96.0</td>\n",
       "      <td>10.0</td>\n",
       "      <td>10.0</td>\n",
       "      <td>10.0</td>\n",
       "      <td>10.0</td>\n",
       "      <td>10.0</td>\n",
       "      <td>10.0</td>\n",
       "      <td>1.48</td>\n",
       "    </tr>\n",
       "    <tr>\n",
       "      <th>2</th>\n",
       "      <td>3308979</td>\n",
       "      <td>11</td>\n",
       "      <td>$975.00</td>\n",
       "      <td>20</td>\n",
       "      <td>97.0</td>\n",
       "      <td>10.0</td>\n",
       "      <td>10.0</td>\n",
       "      <td>10.0</td>\n",
       "      <td>10.0</td>\n",
       "      <td>10.0</td>\n",
       "      <td>10.0</td>\n",
       "      <td>1.15</td>\n",
       "    </tr>\n",
       "  </tbody>\n",
       "</table>\n",
       "</div>"
      ],
      "text/plain": [
       "   home_id  accommodates    price  number_of_reviews  scores_overall  \\\n",
       "0   241032             4   $85.00                207            95.0   \n",
       "1   953595             4  $150.00                 43            96.0   \n",
       "2  3308979            11  $975.00                 20            97.0   \n",
       "\n",
       "   scores_accuracy  scores_cleanliness  scores_checkin  scores_communication  \\\n",
       "0             10.0                10.0            10.0                  10.0   \n",
       "1             10.0                10.0            10.0                  10.0   \n",
       "2             10.0                10.0            10.0                  10.0   \n",
       "\n",
       "   scores_location  scores_value  reviews_per_month  \n",
       "0              9.0          10.0               4.07  \n",
       "1             10.0          10.0               1.48  \n",
       "2             10.0          10.0               1.15  "
      ]
     },
     "execution_count": 3,
     "metadata": {},
     "output_type": "execute_result"
    }
   ],
   "source": [
    "fields = ['id', 'accommodates', 'price', 'number_of_reviews', 'review_scores_rating', \n",
    "          'review_scores_accuracy', 'review_scores_cleanliness', 'review_scores_checkin', \n",
    "          'review_scores_communication', 'review_scores_location', 'review_scores_value', \n",
    "          'reviews_per_month']\n",
    "homes_df = pd.read_csv(\"./Data/listings.csv\", encoding = \"utf-8\", usecols = fields)\n",
    "\n",
    "homes_df.columns = ['home_id', 'accommodates', 'price', 'number_of_reviews',\n",
    "                    'scores_overall', 'scores_accuracy', 'scores_cleanliness', \n",
    "                    'scores_checkin', 'scores_communication', 'scores_location', \n",
    "                    'scores_value', 'reviews_per_month']\n",
    "homes_df = homes_df.dropna() # removed 660 homes which are lack of some score information\n",
    "homes_df.head(3)"
   ]
  },
  {
   "cell_type": "code",
   "execution_count": 4,
   "metadata": {},
   "outputs": [
    {
     "data": {
      "text/html": [
       "<div>\n",
       "<style scoped>\n",
       "    .dataframe tbody tr th:only-of-type {\n",
       "        vertical-align: middle;\n",
       "    }\n",
       "\n",
       "    .dataframe tbody tr th {\n",
       "        vertical-align: top;\n",
       "    }\n",
       "\n",
       "    .dataframe thead th {\n",
       "        text-align: right;\n",
       "    }\n",
       "</style>\n",
       "<table border=\"1\" class=\"dataframe\">\n",
       "  <thead>\n",
       "    <tr style=\"text-align: right;\">\n",
       "      <th></th>\n",
       "      <th>home_id</th>\n",
       "      <th>accommodates</th>\n",
       "      <th>price</th>\n",
       "      <th>number_of_reviews</th>\n",
       "      <th>scores_overall</th>\n",
       "      <th>scores_accuracy</th>\n",
       "      <th>scores_cleanliness</th>\n",
       "      <th>scores_checkin</th>\n",
       "      <th>scores_communication</th>\n",
       "      <th>scores_location</th>\n",
       "      <th>scores_value</th>\n",
       "      <th>reviews_per_month</th>\n",
       "    </tr>\n",
       "  </thead>\n",
       "  <tbody>\n",
       "    <tr>\n",
       "      <th>0</th>\n",
       "      <td>241032</td>\n",
       "      <td>4</td>\n",
       "      <td>85</td>\n",
       "      <td>207</td>\n",
       "      <td>95.0</td>\n",
       "      <td>10.0</td>\n",
       "      <td>10.0</td>\n",
       "      <td>10.0</td>\n",
       "      <td>10.0</td>\n",
       "      <td>9.0</td>\n",
       "      <td>10.0</td>\n",
       "      <td>4.07</td>\n",
       "    </tr>\n",
       "    <tr>\n",
       "      <th>1</th>\n",
       "      <td>953595</td>\n",
       "      <td>4</td>\n",
       "      <td>150</td>\n",
       "      <td>43</td>\n",
       "      <td>96.0</td>\n",
       "      <td>10.0</td>\n",
       "      <td>10.0</td>\n",
       "      <td>10.0</td>\n",
       "      <td>10.0</td>\n",
       "      <td>10.0</td>\n",
       "      <td>10.0</td>\n",
       "      <td>1.48</td>\n",
       "    </tr>\n",
       "    <tr>\n",
       "      <th>2</th>\n",
       "      <td>3308979</td>\n",
       "      <td>11</td>\n",
       "      <td>975</td>\n",
       "      <td>20</td>\n",
       "      <td>97.0</td>\n",
       "      <td>10.0</td>\n",
       "      <td>10.0</td>\n",
       "      <td>10.0</td>\n",
       "      <td>10.0</td>\n",
       "      <td>10.0</td>\n",
       "      <td>10.0</td>\n",
       "      <td>1.15</td>\n",
       "    </tr>\n",
       "  </tbody>\n",
       "</table>\n",
       "</div>"
      ],
      "text/plain": [
       "   home_id  accommodates  price  number_of_reviews  scores_overall  \\\n",
       "0   241032             4     85                207            95.0   \n",
       "1   953595             4    150                 43            96.0   \n",
       "2  3308979            11    975                 20            97.0   \n",
       "\n",
       "   scores_accuracy  scores_cleanliness  scores_checkin  scores_communication  \\\n",
       "0             10.0                10.0            10.0                  10.0   \n",
       "1             10.0                10.0            10.0                  10.0   \n",
       "2             10.0                10.0            10.0                  10.0   \n",
       "\n",
       "   scores_location  scores_value  reviews_per_month  \n",
       "0              9.0          10.0               4.07  \n",
       "1             10.0          10.0               1.48  \n",
       "2             10.0          10.0               1.15  "
      ]
     },
     "execution_count": 4,
     "metadata": {},
     "output_type": "execute_result"
    }
   ],
   "source": [
    "# change price from string to integer such as \"$85.00\" to \"85\"\n",
    "def extract_price(s):\n",
    "    return int(''.join(re.findall(r\"\\d+\", s.split('.')[0])))\n",
    "\n",
    "homes_df.price = [extract_price(p) for p in homes_df.price]\n",
    "homes_df.head(3)"
   ]
  },
  {
   "cell_type": "code",
   "execution_count": 6,
   "metadata": {},
   "outputs": [
    {
     "name": "stdout",
     "output_type": "stream",
     "text": [
      "There are 3158 airbnb homes.\n",
      "The price ranging from $25 to $1000.\n"
     ]
    }
   ],
   "source": [
    "print(\"There are \" + str(len(homes_df)) + \" airbnb homes.\")\n",
    "print(\"The price ranging from $\" + str(min(homes_df.price)) + \" to $\" \n",
    "      + str(max(homes_df.price)) + \".\")"
   ]
  },
  {
   "cell_type": "code",
   "execution_count": 27,
   "metadata": {},
   "outputs": [
    {
     "name": "stdout",
     "output_type": "stream",
     "text": [
      "126.9240025332489\n",
      "90.1155836842088\n"
     ]
    },
    {
     "data": {
      "image/png": "[encoded data removed]",
      "text/plain": [
       "<Figure size 432x288 with 1 Axes>"
      ]
     },
     "metadata": {
      "needs_background": "light"
     },
     "output_type": "display_data"
    }
   ],
   "source": [
    "print(homes_df.price.mean())\n",
    "print(homes_df.price.std())\n",
    "# import scipy.stats as stats\n",
    "\n",
    "# x_axis = homes_df.price\n",
    "# mean = 127\n",
    "# sd = 2\n",
    "# # Mean = 0, SD = 2.\n",
    "# plt.plot(x_axis, stats.norm.pdf(x_axis, mean, sd))\n",
    "# plt.show()\n",
    "\n",
    "\n",
    "import numpy as np\n",
    "from scipy.stats import norm\n",
    "import matplotlib.pyplot as plt\n",
    "\n",
    "# Generate some data for this demonstration.\n",
    "data = homes_df.price\n",
    "\n",
    "# Fit a normal distribution to the data:\n",
    "mu, std = norm.fit(data)\n",
    "\n",
    "# Plot the histogram.\n",
    "plt.hist(data, bins=25, density=True, alpha=0.6, color='g')\n",
    "\n",
    "# Plot the PDF.\n",
    "xmin, xmax = plt.xlim()\n",
    "x = np.linspace(xmin, xmax, 100)\n",
    "p = norm.pdf(x, mu, std)\n",
    "plt.plot(x, p, 'k', linewidth=2)\n",
    "title = \"Fit results: mu = %.2f,  std = %.2f\" % (mu, std)\n",
    "plt.title(title)\n",
    "\n",
    "plt.show()"
   ]
  },
  {
   "cell_type": "code",
   "execution_count": 28,
   "metadata": {},
   "outputs": [],
   "source": [
    "# bar chart plot function\n",
    "\n",
    "def price_dtrb_bar_plot(df, width):\n",
    "    prices = df.index\n",
    "    counts = df.num_price\n",
    "\n",
    "    # Make the same graph\n",
    "    f, ax = plt.subplots(figsize=(18,5))\n",
    "    plt.bar(prices, counts, color=\"skyblue\", width=width, linewidth = 1, \n",
    "            edgecolor='white', align='edge', alpha=0.7)\n",
    "\n",
    "    # Add titles\n",
    "    plt.title(\"Airbnb Homes Price Distribution Chart\", loc=\"center\")\n",
    "    plt.xlabel(\"$ Price\")\n",
    "    plt.ylabel(\"Count of Homes\")\n",
    "    plt.xticks(prices)\n",
    "    ax.legend(fontsize = 14)\n",
    "\n",
    "    plt.show()\n",
    "    \n",
    "def price_dtrb_hist_plot(df, width):\n",
    "    prices = df.index\n",
    "    counts = df.num_price\n",
    "    \n",
    "    # Generate some data for this demonstration.\n",
    "    data = prices\n",
    "\n",
    "    # Fit a normal distribution to the data:\n",
    "    mu, std = norm.fit(data)\n",
    "\n",
    "    # Make the same graph\n",
    "    f, ax = plt.subplots(figsize=(20,5))\n",
    "    plt.hist(data, counts, bins=25, density=True, alpha=0.6, color='g')\n",
    "    plt.bar(prices, counts, color=\"skyblue\", width=width, linewidth = 1, \n",
    "            edgecolor='white', align='edge', alpha=0.7)\n",
    "\n",
    "    # Add titles\n",
    "#     plt.title(\"Airbnb Homes Price Distribution Chart\", loc=\"center\")\n",
    "    plt.xlabel(\"$ Price\")\n",
    "    plt.ylabel(\"Count of Homes\")\n",
    "    plt.xticks(prices)\n",
    "    ax.legend(fontsize = 14)\n",
    "    \n",
    "    xmin, xmax = plt.xlim()\n",
    "    x = np.linspace(xmin, xmax, 100)\n",
    "    p = norm.pdf(x, mu, std)\n",
    "    plt.plot(x, p, 'k', linewidth=2)\n",
    "    title = \"Airbnb Homes Price Distribution Chart Fit results: mu = %.2f,  std = %.2f\" % (mu, std)\n",
    "    plt.title(title, loc=\"center\")\n",
    "\n",
    "    plt.show()"
   ]
  },
  {
   "cell_type": "code",
   "execution_count": 8,
   "metadata": {},
   "outputs": [],
   "source": [
    "home_price_count =  homes_df['price'].value_counts()\n",
    "\n",
    "home_price_count_df = DataFrame(home_price_count.values, \n",
    "                                index = home_price_count.index, \n",
    "                                columns = ['num_price'])\n",
    "home_price_count_df.index.names = ['$price']"
   ]
  },
  {
   "cell_type": "code",
   "execution_count": 17,
   "metadata": {},
   "outputs": [
    {
     "name": "stderr",
     "output_type": "stream",
     "text": [
      "No handles with labels found to put in legend.\n"
     ]
    },
    {
     "data": {
      "image/png": "[encoded data removed]",
      "text/plain": [
       "<Figure size 1296x360 with 1 Axes>"
      ]
     },
     "metadata": {
      "needs_background": "light"
     },
     "output_type": "display_data"
    }
   ],
   "source": [
    "# Segment the prices into several price range to plot.\n",
    "# First, I tried the `$25` as price range.\n",
    "\n",
    "def plot_vars(bin_range, max_price):\n",
    "    binedges = np.arange(0, max_price, bin_range)\n",
    "    binlabels = np.arange(bin_range, max_price, bin_range)\n",
    "    tmp = home_price_count_df.groupby(pd.cut(home_price_count_df.index,\n",
    "                                          bins = binedges,\n",
    "                                          labels = binlabels)\n",
    "                                  ).num_price.sum()\n",
    "    \n",
    "    tmp_df = tmp.to_frame()\n",
    "    tmp_df.index.names = ['price_range']\n",
    "#     price_dtrb_area_plot(tmp_df)\n",
    "    price_dtrb_bar_plot(tmp_df, bin_range)\n",
    "    \n",
    "    \n",
    "    \n",
    "\n",
    "plot_vars(25, 1000)"
   ]
  },
  {
   "cell_type": "code",
   "execution_count": 18,
   "metadata": {},
   "outputs": [
    {
     "name": "stderr",
     "output_type": "stream",
     "text": [
      "No handles with labels found to put in legend.\n"
     ]
    },
    {
     "data": {
      "image/png": "[encoded data removed]",
      "text/plain": [
       "<Figure size 1296x360 with 1 Axes>"
      ]
     },
     "metadata": {
      "needs_background": "light"
     },
     "output_type": "display_data"
    },
    {
     "name": "stderr",
     "output_type": "stream",
     "text": [
      "No handles with labels found to put in legend.\n"
     ]
    },
    {
     "data": {
      "image/png": "[encoded data removed]",
      "text/plain": [
       "<Figure size 1296x360 with 1 Axes>"
      ]
     },
     "metadata": {
      "needs_background": "light"
     },
     "output_type": "display_data"
    },
    {
     "name": "stderr",
     "output_type": "stream",
     "text": [
      "No handles with labels found to put in legend.\n"
     ]
    },
    {
     "data": {
      "image/png": "[encoded data removed]",
      "text/plain": [
       "<Figure size 1296x360 with 1 Axes>"
      ]
     },
     "metadata": {
      "needs_background": "light"
     },
     "output_type": "display_data"
    },
    {
     "name": "stderr",
     "output_type": "stream",
     "text": [
      "No handles with labels found to put in legend.\n"
     ]
    },
    {
     "data": {
      "image/png": "[encoded data removed]",
      "text/plain": [
       "<Figure size 1296x360 with 1 Axes>"
      ]
     },
     "metadata": {
      "needs_background": "light"
     },
     "output_type": "display_data"
    },
    {
     "name": "stderr",
     "output_type": "stream",
     "text": [
      "No handles with labels found to put in legend.\n"
     ]
    },
    {
     "data": {
      "image/png": "[encoded data removed]",
      "text/plain": [
       "<Figure size 1296x360 with 1 Axes>"
      ]
     },
     "metadata": {
      "needs_background": "light"
     },
     "output_type": "display_data"
    }
   ],
   "source": [
    "# There is a long tail in above area chart, \n",
    "# I choose to only see the range from `$0` to `$200` to see detailed distribution. \n",
    "# The homes out of this range will not be considered in my research. \n",
    "\n",
    "# Meanwhile, I chose to use `$20` as bin to plot the distribution chart\n",
    "\n",
    "plot_vars(25, 375)\n",
    "plot_vars(20, 375)\n",
    "plot_vars(15, 375)\n",
    "plot_vars(10, 375)\n",
    "plot_vars(5, 375)"
   ]
  },
  {
   "cell_type": "code",
   "execution_count": 10,
   "metadata": {},
   "outputs": [],
   "source": [
    "# For this phase of my paper, I will try homes with number_of_reviews in \n",
    "# `(75, 225]` to see what will happen.\n",
    "homes_sample_df = homes_sample_df[homes_sample_df['number_of_reviews'] > 75]\n",
    "homes_sample_df = homes_sample_df[homes_sample_df['number_of_reviews'] <= 225]"
   ]
  },
  {
   "cell_type": "code",
   "execution_count": 12,
   "metadata": {},
   "outputs": [],
   "source": [
    "homes_sample_df.to_csv('./Data/sample_data_for_testing.csv', sep='\\t', encoding='utf-8')"
   ]
  }
 ],
 "metadata": {
  "kernelspec": {
   "display_name": "Python 3",
   "language": "python",
   "name": "python3"
  },
  "language_info": {
   "codemirror_mode": {
    "name": "ipython",
    "version": 3
   },
   "file_extension": ".py",
   "mimetype": "text/x-python",
   "name": "python",
   "nbconvert_exporter": "python",
   "pygments_lexer": "ipython3",
   "version": "3.6.8"
  }
 },
 "nbformat": 4,
 "nbformat_minor": 2
}

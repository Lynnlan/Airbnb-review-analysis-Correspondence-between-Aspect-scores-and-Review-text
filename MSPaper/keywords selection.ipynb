{
 "cells": [
  {
   "cell_type": "markdown",
   "metadata": {},
   "source": [
    "### Airbnb's description of all aspects.\n",
    "* `Overall Experience` What was your guest’s overall experience?\n",
    "* `Cleanliness` Did your guests feel that your space was clean and tidy?\n",
    "* `Accuracy` How accurately did your listing page represent your space?\n",
    "* `Value` Did your guest feel your listing provided good value for the price?\n",
    "* `Communication` How well did you communicate with your guest before and during their stay?\n",
    "* `Check-in` How smoothly did their check-in go?\n",
    "* `Location` How did guests feel about your neighborhood?"
   ]
  },
  {
   "cell_type": "code",
   "execution_count": 1,
   "metadata": {},
   "outputs": [],
   "source": [
    "# use wordnet find keywords\n",
    "from nltk.corpus import wordnet as wn\n",
    "import re"
   ]
  },
  {
   "cell_type": "code",
   "execution_count": 2,
   "metadata": {},
   "outputs": [],
   "source": [
    "# functions for extracting the keywords of an aspect.\n",
    "def synset_description(word):\n",
    "    for synset in wn.synsets(word):\n",
    "        print(\"%s : %s\" % (synset.name(), synset.definition()))\n",
    "\n",
    "def synonym_words_in(word, include_list):\n",
    "    thesaurus = []\n",
    "    for synset in wn.synsets(word):\n",
    "        if synset.name() in include_list:\n",
    "            thesaurus += synset.lemma_names()\n",
    "    \n",
    "    return list(set(thesaurus))\n",
    "\n",
    "def synonym_words_ex(word, exclude_list):\n",
    "    thesaurus = []\n",
    "    for synset in wn.synsets(word):\n",
    "        if synset.name() not in exclude_list:\n",
    "            thesaurus += synset.lemma_names()\n",
    "    \n",
    "    return list(set(thesaurus))\n",
    "\n",
    "def anton_list(syn_include_list):\n",
    "    \n",
    "    anton_list = []\n",
    "    for synset in syn_include_list:\n",
    "        for l in wn.synset(synset).lemmas():\n",
    "            if l.antonyms():\n",
    "                anton_list += l.antonyms()\n",
    "    \n",
    "    return anton_list\n",
    "\n",
    "def synonyms_of_antonyms(anton_list):\n",
    "    antonyms = []\n",
    "    pattern = r\"Lemma\\('([a-z]+.[a-z].\\d+)\"\n",
    "    \n",
    "    for anton in anton_list:\n",
    "        antonyms += wn.synset(re.findall(pattern, str(anton))[0]).lemma_names()\n",
    "    \n",
    "    return list(set(antonyms))"
   ]
  },
  {
   "cell_type": "markdown",
   "metadata": {},
   "source": [
    "# Determine the keywords relevant to aspect `location`.\n",
    "\n",
    "The Airbnb officially determine the aspect `location` as:\n",
    "* `Location` How did guests feel about your neighborhood?\n",
    "\n",
    "So, I will use the two main keywords, `location` and `neighborhood`, to find synonyms for further review text processing.\n",
    "\n",
    "### Firstly, I will look at the synset description of  `location`. \n",
    "\n",
    "This is to remove the unrelevant synset and then increase the accuracy of the set of synonyms."
   ]
  },
  {
   "cell_type": "code",
   "execution_count": 3,
   "metadata": {
    "scrolled": true
   },
   "outputs": [
    {
     "name": "stdout",
     "output_type": "stream",
     "text": [
      "location.n.01 : a point or extent in space\n",
      "placement.n.03 : the act of putting something in a certain place\n",
      "localization.n.01 : a determination of the place where something is\n",
      "location.n.04 : a workplace away from a studio at which some or all of a movie may be made\n"
     ]
    }
   ],
   "source": [
    "synset_description('location')"
   ]
  },
  {
   "cell_type": "markdown",
   "metadata": {},
   "source": [
    "### Then, exclude not necessarily relevant synset and get synonyms. \n",
    "\n",
    "From above, we can see the `location.n.04`, `localization.n.01`, `placement.n.03` are not necessarily in accord to the Airbnb's definition of aspect `location`.\n",
    "\n",
    "So, I will ignore synonyms in those synset.\n",
    "\n",
    "As a result, the synonyms I will use later will be:"
   ]
  },
  {
   "cell_type": "code",
   "execution_count": 4,
   "metadata": {},
   "outputs": [],
   "source": [
    "synw1 = synonym_words_in('location', ['location.n.01'])"
   ]
  },
  {
   "cell_type": "markdown",
   "metadata": {},
   "source": [
    "### Do the same thing for word `neighborhood`."
   ]
  },
  {
   "cell_type": "code",
   "execution_count": 5,
   "metadata": {},
   "outputs": [
    {
     "name": "stdout",
     "output_type": "stream",
     "text": [
      "vicinity.n.01 : a surrounding or nearby region\n",
      "neighborhood.n.02 : people living near one another\n",
      "region.n.04 : the approximate amount of something (usually used prepositionally as in `in the region of')\n",
      "neighborhood.n.04 : an area within a city or town that has some distinctive features (especially one forming a community)\n"
     ]
    }
   ],
   "source": [
    "synset_description('neighborhood')"
   ]
  },
  {
   "cell_type": "code",
   "execution_count": 6,
   "metadata": {},
   "outputs": [],
   "source": [
    "synw2 = synonym_words_ex('neighborhood', ['neighborhood.n.02'])"
   ]
  },
  {
   "cell_type": "markdown",
   "metadata": {},
   "source": [
    "### Find antonyms and their synonyms"
   ]
  },
  {
   "cell_type": "code",
   "execution_count": 7,
   "metadata": {},
   "outputs": [],
   "source": [
    "# this is a list of synsets that are selected as useful synset in finding synonyms.\n",
    "syn_include_list = ['location.n.01', 'vicinity.n.01', 'region.n.04', 'neighborhood.n.04']\n",
    "\n",
    "# a list of antonym synsets for above list.\n",
    "anton_list(syn_include_list)\n",
    "\n",
    "# all lemma words in upper antonym synsets.\n",
    "antw = synonyms_of_antonyms(anton_list(syn_include_list))"
   ]
  },
  {
   "cell_type": "markdown",
   "metadata": {},
   "source": [
    "### Finalize the aspect synonyms set of `location` aspect."
   ]
  },
  {
   "cell_type": "code",
   "execution_count": 8,
   "metadata": {},
   "outputs": [
    {
     "data": {
      "text/plain": [
       "['location',\n",
       " 'neighbourhood',\n",
       " 'neighborhood',\n",
       " 'neck_of_the_woods',\n",
       " 'region',\n",
       " 'locality',\n",
       " 'vicinity']"
      ]
     },
     "execution_count": 8,
     "metadata": {},
     "output_type": "execute_result"
    }
   ],
   "source": [
    "location_synonyms = list(set(synw1 + synw2 + antw))\n",
    "location_synonyms"
   ]
  },
  {
   "cell_type": "markdown",
   "metadata": {},
   "source": [
    "# Determine the keywords relevant to aspect `cleanliness`.\n",
    "\n",
    "The Airbnb officially determine the aspect `clealiness` as:\n",
    "* `Cleanliness` Did your guests feel that your space was **clean** and **tidy**.\n",
    "\n",
    "So, I will use the three main keywords, `clean`, `tidy` and `cleanliness`, to find synonyms for further review text processing.\n",
    "\n",
    "The process will be the same as `location`.\n",
    "\n",
    "### `cleanliness`"
   ]
  },
  {
   "cell_type": "code",
   "execution_count": 9,
   "metadata": {},
   "outputs": [
    {
     "name": "stdout",
     "output_type": "stream",
     "text": [
      "cleanliness.n.01 : the habit of keeping free of superficial imperfections\n",
      "cleanliness.n.02 : diligence in keeping clean\n"
     ]
    }
   ],
   "source": [
    "synset_description('cleanliness')"
   ]
  },
  {
   "cell_type": "code",
   "execution_count": 10,
   "metadata": {},
   "outputs": [],
   "source": [
    "synw1 = synonym_words_ex('cleanliness', '')"
   ]
  },
  {
   "cell_type": "markdown",
   "metadata": {},
   "source": [
    "### `tidy`"
   ]
  },
  {
   "cell_type": "code",
   "execution_count": 11,
   "metadata": {},
   "outputs": [
    {
     "name": "stdout",
     "output_type": "stream",
     "text": [
      "tidy.n.01 : receptacle that holds odds and ends (as sewing materials)\n",
      "tidy.v.01 : put (things or places) in order\n",
      "tidy.a.01 : marked by order and cleanliness in appearance or habits\n",
      "kempt.s.01 : (of hair) neat and tidy\n",
      "goodly.s.01 : large in amount or extent or degree\n"
     ]
    }
   ],
   "source": [
    "synset_description('tidy')"
   ]
  },
  {
   "cell_type": "code",
   "execution_count": 12,
   "metadata": {},
   "outputs": [],
   "source": [
    "synw2 = synonym_words_in('tidy', ['tidy.v.01', 'tidy.a.01'])"
   ]
  },
  {
   "cell_type": "markdown",
   "metadata": {},
   "source": [
    "### `clean`"
   ]
  },
  {
   "cell_type": "code",
   "execution_count": 13,
   "metadata": {},
   "outputs": [],
   "source": [
    "# synset_description('clean')"
   ]
  },
  {
   "cell_type": "code",
   "execution_count": 14,
   "metadata": {},
   "outputs": [],
   "source": [
    "synw3 = synonym_words_in('clean', ['clean.v.01', 'houseclean.v.01', 'clean.v.05', 'clean.v.08', \n",
    "                                   'scavenge.v.04', 'clean.a.01'])"
   ]
  },
  {
   "cell_type": "markdown",
   "metadata": {},
   "source": [
    "### Find antonyms and their synonyms\n",
    "\n",
    "After I used the synonyms as keywords to extract sentences that are relevant to `cleanliness` aspect from all review text, I found that the accuracy is pretty high. \n",
    "\n",
    "However, it neglects some sentences that used the antonyms of the keywords like \"the kitchen needed a good scrubbing - it was **dirty**\".\n",
    "\n",
    "So, I decided to also add antonyms and their synonyms into keywords list using the `anton_list` and `synonyms_of_antonyms` function."
   ]
  },
  {
   "cell_type": "code",
   "execution_count": 15,
   "metadata": {},
   "outputs": [],
   "source": [
    "# this is a list of synsets that are selected as useful synset in finding synonyms.\n",
    "syn_include_list = ['cleanliness.n.01', 'cleanliness.n.02', 'tidy.v.01', 'tidy.a.01', \n",
    "                'clean.v.01', 'houseclean.v.01', 'clean.v.05', 'clean.v.08', \n",
    "                'scavenge.v.04', 'clean.a.01']"
   ]
  },
  {
   "cell_type": "code",
   "execution_count": 16,
   "metadata": {},
   "outputs": [
    {
     "data": {
      "text/plain": [
       "[Lemma('uncleanliness.n.01.uncleanliness'),\n",
       " Lemma('untidy.a.01.untidy'),\n",
       " Lemma('dirty.v.01.dirty'),\n",
       " Lemma('dirty.a.01.dirty')]"
      ]
     },
     "execution_count": 16,
     "metadata": {},
     "output_type": "execute_result"
    }
   ],
   "source": [
    "# a list of antonym synsets for above list.\n",
    "anton_list(syn_include_list)"
   ]
  },
  {
   "cell_type": "code",
   "execution_count": 17,
   "metadata": {},
   "outputs": [],
   "source": [
    "# all lemma words in upper antonym synsets.\n",
    "antw = synonyms_of_antonyms(anton_list(syn_include_list))"
   ]
  },
  {
   "cell_type": "markdown",
   "metadata": {},
   "source": [
    "### Finalize the aspect synonyms set of `cleanliness` aspect."
   ]
  },
  {
   "cell_type": "code",
   "execution_count": 18,
   "metadata": {},
   "outputs": [
    {
     "data": {
      "text/plain": [
       "['colly',\n",
       " 'neaten',\n",
       " 'straighten',\n",
       " 'soil',\n",
       " 'tidy',\n",
       " 'make_clean',\n",
       " 'tidy_up',\n",
       " 'clean',\n",
       " 'begrime',\n",
       " 'straighten_out',\n",
       " 'bemire',\n",
       " 'square_away',\n",
       " 'unclean',\n",
       " 'clean_up',\n",
       " 'untidy',\n",
       " 'grime',\n",
       " 'dirty',\n",
       " 'cleanliness',\n",
       " 'scavenge',\n",
       " 'soiled',\n",
       " 'clean_house',\n",
       " 'houseclean',\n",
       " 'uncleanliness']"
      ]
     },
     "execution_count": 18,
     "metadata": {},
     "output_type": "execute_result"
    }
   ],
   "source": [
    "cleanliness_synonyms = list(set(synw1 + synw2 + synw3 + antw))\n",
    "cleanliness_synonyms"
   ]
  },
  {
   "cell_type": "markdown",
   "metadata": {},
   "source": [
    "**********************************************************************************************"
   ]
  },
  {
   "cell_type": "code",
   "execution_count": 200,
   "metadata": {},
   "outputs": [],
   "source": [
    "# # 上义词\n",
    "# wn.synset('goodly.s.01').hypernyms()\n",
    "# # 反义词 \n",
    "# wn.synset('cleanliness.n.02').lemmas()[0].antonyms()\n",
    "\n",
    "# def word_similarity(w1, w2):\n",
    "#     token1 = nlp(w1)\n",
    "#     token2 = nlp(w2)\n",
    "#     return token1.similarity(token2)\n",
    "\n",
    "# antonym_words('clean.a.01')"
   ]
  }
 ],
 "metadata": {
  "kernelspec": {
   "display_name": "Python 3",
   "language": "python",
   "name": "python3"
  },
  "language_info": {
   "codemirror_mode": {
    "name": "ipython",
    "version": 3
   },
   "file_extension": ".py",
   "mimetype": "text/x-python",
   "name": "python",
   "nbconvert_exporter": "python",
   "pygments_lexer": "ipython3",
   "version": "3.6.8"
  }
 },
 "nbformat": 4,
 "nbformat_minor": 2
}
